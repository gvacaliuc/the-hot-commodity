{
 "cells": [
  {
   "cell_type": "markdown",
   "metadata": {},
   "source": [
    "# EDA Exercise\n",
    "\n",
    "To see a completed version of this exercise, refer to [`examples/eda-exercise`](https://datasci.rice.edu/deep/curriculum/examples/eda-exercise/)."
   ]
  },
  {
   "cell_type": "markdown",
   "metadata": {},
   "source": [
    "## Prerequisites\n",
    "\n",
    "You need to install Python! The most convenient distribution for us to use is the Anaconda Distribution, which you can install from here: https://docs.anaconda.com/anaconda/install/.\n",
    "\n",
    "After installation, ensure that you can follow these instructions to open Jupyter:\n",
    "https://jupyter-notebook-beginner-guide.readthedocs.io/en/latest/execute.html\n",
    "\n",
    "Once you've launched Jupyter, you should be able to double-click on a `.ipynb` file to open a new kernel.\n",
    "\n",
    "!!! warning \"Working Directory\"\n",
    "\n",
    "    You'll want to be careful about where you launch Jupyter and download data to.\n",
    "    It's best practice to create a folder for your deep project to organize data and \n",
    "    launch Jupyter from there.  If jupyter is started from a different directory it might\n",
    "    be hard to find your data / notebooks!"
   ]
  },
  {
   "cell_type": "code",
   "execution_count": 1,
   "metadata": {},
   "outputs": [],
   "source": [
    "# it's best practice to have your imports up top so others can immediately know what to install\n",
    "# if you import more modules, add them here\n",
    "import numpy as np\n",
    "import pandas as pd\n",
    "import matplotlib.pyplot as plt\n",
    "\n",
    "%matplotlib inline"
   ]
  },
  {
   "cell_type": "code",
   "execution_count": 2,
   "metadata": {},
   "outputs": [],
   "source": [
    "plt.rcParams[\"figure.figsize\"] = 10, 6\n",
    "plt.rcParams[\"figure.dpi\"] = 150"
   ]
  },
  {
   "cell_type": "code",
   "execution_count": 3,
   "metadata": {},
   "outputs": [],
   "source": [
    "plt.rcParams[\"figure.figsize\"] = 10, 6\n",
    "plt.rcParams[\"figure.dpi\"] = 150"
   ]
  },
  {
   "cell_type": "markdown",
   "metadata": {},
   "source": [
    "## Acquiring Data\n",
    "\n",
    "By now you've selected a dataset for this semester.  See below for examples of reading tabular data into Pandas:"
   ]
  },
  {
   "cell_type": "code",
   "execution_count": 4,
   "metadata": {},
   "outputs": [],
   "source": [
    "# reading from a CSV: https://pandas.pydata.org/pandas-docs/stable/reference/api/pandas.read_csv.html\n",
    "# df = pd.read_csv(\"data/foo.csv\")\n",
    "\n",
    "# reading from a CSV without column names\n",
    "# df = pd.read_csv(\"data/foo.csv\", columns=[\"date\", \"company\", \"valuation\"])"
   ]
  },
  {
   "cell_type": "markdown",
   "metadata": {},
   "source": [
    "# WARNING\n",
    "\n",
    "Be sure that you've installed all the dependencies for this project! From your terminal run:\n",
    "\n",
    "pip:\n",
    "```shell\n",
    "$ # make a virtual environment, e.g. mkvirtualenv deep\n",
    "$ # activate your virtual environment, e.g. workon deep\n",
    "$ pip install -r requirements.txt\n",
    "```\n",
    "\n",
    "conda:\n",
    "```shell\n",
    "$ conda env create --name deep --file requirements.txt\n",
    "$ conda activate deep\n",
    "```"
   ]
  },
  {
   "cell_type": "code",
   "execution_count": 5,
   "metadata": {},
   "outputs": [],
   "source": [
    "# https://www.cftc.gov/MarketReports/CommitmentsofTraders/HistoricalCompressed/index.htm\n",
    "import requests, zipfile, io\n",
    "\n",
    "url = \"https://www.cftc.gov/files/dea/history/fut_disagg_txt_hist_2006_2016.zip\"\n",
    "\n",
    "r = requests.get(url)\n",
    "z = zipfile.ZipFile(io.BytesIO(r.content))\n",
    "z.extractall(\"../data\")"
   ]
  },
  {
   "cell_type": "code",
   "execution_count": 10,
   "metadata": {},
   "outputs": [],
   "source": [
    "# low_memory=False suppresses a mixed-type warning that can arise w/ messy data.  we're not worried about performance right now, so not a big deal.\n",
    "df = pd.read_csv(\"../data/F_Disagg06_16.txt\", low_memory=False)"
   ]
  },
  {
   "cell_type": "markdown",
   "metadata": {},
   "source": [
    "## Structured EDA\n",
    "\n",
    "Brief overview of the organization which collected our dataset:\n",
    "\n",
    "> The Commodity Futures Trading Commission (Commission or CFTC) publishes the Commitments of Traders (COT) reports to help the public understand market dynamics. Specifically, the COT reports provide a breakdown of each Tuesday’s open interest for futures and options on futures markets in which 20 or more traders hold positions equal to or above the reporting levels established by the CFTC.\n",
    "\n",
    "Specific information on our subset:\n",
    "\n",
    "> The Disaggregated reports are broken down by agriculture, petroleum and products, natural gas and products, electricity and metals and other physical contracts. These reports have a futures only report and a combined futures and options report. The Disaggregated reports break down the reportable open interest positions into four classifications:\n",
    "> \n",
    "> 1. Producer/Merchant/Processor/User\n",
    "> 2. Swap Dealers\n",
    "> 3. Managed Money\n",
    "> 4. Other Reportables\n",
    "\n",
    "That the disaggregated reports \"are broken down ...\" implies that there is information in our dataset that clarifies what commodity a given contract is for.  Additionally, we see that there is additional breakdown of open interest -- there are 4 groups of traders which we have OI information for."
   ]
  },
  {
   "cell_type": "markdown",
   "metadata": {},
   "source": [
    "### What features are in your dataset?\n",
    "\n",
    "List of Columns:\n",
    "https://www.cftc.gov/MarketReports/CommitmentsofTraders/HistoricalViewable/CFTC_023168.html"
   ]
  },
  {
   "cell_type": "code",
   "execution_count": 11,
   "metadata": {},
   "outputs": [
    {
     "data": {
      "text/plain": [
       "Index(['Market_and_Exchange_Names', 'As_of_Date_In_Form_YYMMDD',\n",
       "       'Report_Date_as_YYYY-MM-DD', 'CFTC_Contract_Market_Code',\n",
       "       'CFTC_Market_Code', 'CFTC_Region_Code', 'CFTC_Commodity_Code',\n",
       "       'Open_Interest_All', 'Prod_Merc_Positions_Long_All',\n",
       "       'Prod_Merc_Positions_Short_All',\n",
       "       ...\n",
       "       'Conc_Net_LE_4_TDR_Long_Other', 'Conc_Net_LE_4_TDR_Short_Other',\n",
       "       'Conc_Net_LE_8_TDR_Long_Other', 'Conc_Net_LE_8_TDR_Short_Other',\n",
       "       'Contract_Units', 'CFTC_Contract_Market_Code_Quotes',\n",
       "       'CFTC_Market_Code_Quotes', 'CFTC_Commodity_Code_Quotes',\n",
       "       'CFTC_SubGroup_Code', 'FutOnly_or_Combined'],\n",
       "      dtype='object', length=191)"
      ]
     },
     "execution_count": 11,
     "metadata": {},
     "output_type": "execute_result"
    }
   ],
   "source": [
    "df.columns"
   ]
  },
  {
   "cell_type": "markdown",
   "metadata": {},
   "source": [
    "Note that the dataset is in a \"wide\" format, as there are related fields that have values in the column name, e.g. \"Conc...4\" vs \"Conc...8\".  More info on data organization:  \n",
    "\n",
    "* https://en.wikipedia.org/wiki/Wide_and_narrow_data\n",
    "* https://vita.had.co.nz/papers/tidy-data.pdf"
   ]
  },
  {
   "cell_type": "markdown",
   "metadata": {},
   "source": [
    "### What type is each feature?"
   ]
  },
  {
   "cell_type": "code",
   "execution_count": 12,
   "metadata": {},
   "outputs": [
    {
     "data": {
      "text/plain": [
       "float64    72\n",
       "object     64\n",
       "int64      55\n",
       "dtype: int64"
      ]
     },
     "execution_count": 12,
     "metadata": {},
     "output_type": "execute_result"
    }
   ],
   "source": [
    "df.dtypes.value_counts()"
   ]
  },
  {
   "cell_type": "markdown",
   "metadata": {},
   "source": [
    "#### int data"
   ]
  },
  {
   "cell_type": "markdown",
   "metadata": {},
   "source": [
    "There seems to be some structure in the column names.  \"Prod Merc\", \"Swap\", \"M_Money\", and \"Other\" are prefixes matching the breakdown of traders mentioned above.  \"All\", \"Old\", and \"Other\" are suffixes, however I'm not currently sure what they mean.  I suspect \"All\" refers to the current OI and \"Old\" refers to the previous (last weeks) OI.\n",
    "\n",
    "Additionally, we have some date and factor data that was classified as an integer datatype:\n",
    "* As_of_Date_In_Form_YYMMDD\n",
    "* CFTC_Region_Code\n",
    "* CFTC_Commodity_Code\n",
    "* CFTC_Commodity_Code_Quotes"
   ]
  },
  {
   "cell_type": "code",
   "execution_count": 13,
   "metadata": {},
   "outputs": [
    {
     "data": {
      "text/plain": [
       "Index(['As_of_Date_In_Form_YYMMDD', 'Report_Date_as_YYYY-MM-DD'], dtype='object')"
      ]
     },
     "execution_count": 13,
     "metadata": {},
     "output_type": "execute_result"
    }
   ],
   "source": [
    "df.columns[df.columns.str.contains(\"Date\")]"
   ]
  },
  {
   "cell_type": "code",
   "execution_count": 14,
   "metadata": {},
   "outputs": [],
   "source": [
    "dates = df[\"As_of_Date_In_Form_YYMMDD\"].astype(str).copy()\n",
    "idx = dates.str.len() == 5\n",
    "dates[idx] = \"0\" + dates[idx] \n",
    "dtdf = pd.to_datetime(dates, format=\"%y%m%d\")"
   ]
  },
  {
   "cell_type": "code",
   "execution_count": 15,
   "metadata": {},
   "outputs": [
    {
     "data": {
      "text/plain": [
       "<matplotlib.axes._subplots.AxesSubplot at 0x2201eaa4308>"
      ]
     },
     "execution_count": 15,
     "metadata": {},
     "output_type": "execute_result"
    },
    {
     "data": {
      "image/png": "[encoded data removed]",
      "text/plain": [
       "<Figure size 1500x900 with 1 Axes>"
      ]
     },
     "metadata": {
      "needs_background": "light"
     },
     "output_type": "display_data"
    }
   ],
   "source": [
    "dtdf.dt.year.value_counts().sort_index().plot.bar()"
   ]
  },
  {
   "cell_type": "code",
   "execution_count": 16,
   "metadata": {},
   "outputs": [
    {
     "data": {
      "text/plain": [
       "Index(['As_of_Date_In_Form_YYMMDD', 'CFTC_Region_Code', 'CFTC_Commodity_Code',\n",
       "       'Open_Interest_All', 'Prod_Merc_Positions_Long_All',\n",
       "       'Prod_Merc_Positions_Short_All', 'Swap_Positions_Long_All',\n",
       "       'Swap__Positions_Short_All', 'Swap__Positions_Spread_All',\n",
       "       'M_Money_Positions_Long_All', 'M_Money_Positions_Short_All',\n",
       "       'M_Money_Positions_Spread_All', 'Other_Rept_Positions_Long_All',\n",
       "       'Other_Rept_Positions_Short_All', 'Other_Rept_Positions_Spread_All',\n",
       "       'Tot_Rept_Positions_Long_All', 'Tot_Rept_Positions_Short_All',\n",
       "       'NonRept_Positions_Long_All', 'NonRept_Positions_Short_All',\n",
       "       'Open_Interest_Old', 'Prod_Merc_Positions_Long_Old',\n",
       "       'Prod_Merc_Positions_Short_Old', 'Swap_Positions_Long_Old',\n",
       "       'Swap__Positions_Short_Old', 'Swap__Positions_Spread_Old',\n",
       "       'M_Money_Positions_Long_Old', 'M_Money_Positions_Short_Old',\n",
       "       'M_Money_Positions_Spread_Old', 'Other_Rept_Positions_Long_Old',\n",
       "       'Other_Rept_Positions_Short_Old', 'Other_Rept_Positions_Spread_Old',\n",
       "       'Tot_Rept_Positions_Long_Old', 'Tot_Rept_Positions_Short_Old',\n",
       "       'NonRept_Positions_Long_Old', 'NonRept_Positions_Short_Old',\n",
       "       'Open_Interest_Other', 'Prod_Merc_Positions_Long_Other',\n",
       "       'Prod_Merc_Positions_Short_Other', 'Swap_Positions_Long_Other',\n",
       "       'Swap__Positions_Short_Other', 'Swap__Positions_Spread_Other',\n",
       "       'M_Money_Positions_Long_Other', 'M_Money_Positions_Short_Other',\n",
       "       'M_Money_Positions_Spread_Other', 'Other_Rept_Positions_Long_Other',\n",
       "       'Other_Rept_Positions_Short_Other', 'Other_Rept_Positions_Spread_Other',\n",
       "       'Tot_Rept_Positions_Long_Other', 'Tot_Rept_Positions_Short_Other',\n",
       "       'NonRept_Positions_Long_Other', 'NonRept_Positions_Short_Other',\n",
       "       'Traders_Tot_All', 'Traders_Tot_Rept_Long_All',\n",
       "       'Traders_Tot_Rept_Short_All', 'CFTC_Commodity_Code_Quotes'],\n",
       "      dtype='object')"
      ]
     },
     "execution_count": 16,
     "metadata": {},
     "output_type": "execute_result"
    }
   ],
   "source": [
    "df.dtypes[df.dtypes == \"int64\"].index"
   ]
  },
  {
   "cell_type": "markdown",
   "metadata": {},
   "source": [
    "#### float data"
   ]
  },
  {
   "cell_type": "code",
   "execution_count": 17,
   "metadata": {},
   "outputs": [
    {
     "data": {
      "text/plain": [
       "Index(['Pct_of_Open_Interest_All', 'Pct_of_OI_Prod_Merc_Long_All',\n",
       "       'Pct_of_OI_Prod_Merc_Short_All', 'Pct_of_OI_Swap_Long_All',\n",
       "       'Pct_of_OI_Swap_Short_All', 'Pct_of_OI_Swap_Spread_All',\n",
       "       'Pct_of_OI_M_Money_Long_All', 'Pct_of_OI_M_Money_Short_All',\n",
       "       'Pct_of_OI_M_Money_Spread_All', 'Pct_of_OI_Other_Rept_Long_All',\n",
       "       'Pct_of_OI_Other_Rept_Short_All', 'Pct_of_OI_Other_Rept_Spread_All',\n",
       "       'Pct_of_OI_Tot_Rept_Long_All', 'Pct_of_OI_Tot_Rept_Short_All',\n",
       "       'Pct_of_OI_NonRept_Long_All', 'Pct_of_OI_NonRept_Short_All',\n",
       "       'Pct_of_Open_Interest_Old', 'Pct_of_OI_Prod_Merc_Long_Old',\n",
       "       'Pct_of_OI_Prod_Merc_Short_Old', 'Pct_of_OI_Swap_Long_Old',\n",
       "       'Pct_of_OI_Swap_Short_Old', 'Pct_of_OI_Swap_Spread_Old',\n",
       "       'Pct_of_OI_M_Money_Long_Old', 'Pct_of_OI_M_Money_Short_Old',\n",
       "       'Pct_of_OI_M_Money_Spread_Old', 'Pct_of_OI_Other_Rept_Long_Old',\n",
       "       'Pct_of_OI_Other_Rept_Short_Old', 'Pct_of_OI_Other_Rept_Spread_Old',\n",
       "       'Pct_of_OI_Tot_Rept_Long_Old', 'Pct_of_OI_Tot_Rept_Short_Old',\n",
       "       'Pct_of_OI_NonRept_Long_Old', 'Pct_of_OI_NonRept_Short_Old',\n",
       "       'Pct_of_Open_Interest_Other', 'Pct_of_OI_Prod_Merc_Long_Other',\n",
       "       'Pct_of_OI_Prod_Merc_Short_Other', 'Pct_of_OI_Swap_Long_Other',\n",
       "       'Pct_of_OI_Swap_Short_Other', 'Pct_of_OI_Swap_Spread_Other',\n",
       "       'Pct_of_OI_M_Money_Long_Other', 'Pct_of_OI_M_Money_Short_Other',\n",
       "       'Pct_of_OI_M_Money_Spread_Other', 'Pct_of_OI_Other_Rept_Long_Other',\n",
       "       'Pct_of_OI_Other_Rept_Short_Other', 'Pct_of_OI_Other_Rept_Spread_Other',\n",
       "       'Pct_of_OI_Tot_Rept_Long_Other', 'Pct_of_OI_Tot_Rept_Short_Other',\n",
       "       'Pct_of_OI_NonRept_Long_Other', 'Pct_of_OI_NonRept_Short_Other',\n",
       "       'Conc_Gross_LE_4_TDR_Long_All', 'Conc_Gross_LE_4_TDR_Short_All',\n",
       "       'Conc_Gross_LE_8_TDR_Long_All', 'Conc_Gross_LE_8_TDR_Short_All',\n",
       "       'Conc_Net_LE_4_TDR_Long_All', 'Conc_Net_LE_4_TDR_Short_All',\n",
       "       'Conc_Net_LE_8_TDR_Long_All', 'Conc_Net_LE_8_TDR_Short_All',\n",
       "       'Conc_Gross_LE_4_TDR_Long_Old', 'Conc_Gross_LE_4_TDR_Short_Old',\n",
       "       'Conc_Gross_LE_8_TDR_Long_Old', 'Conc_Gross_LE_8_TDR_Short_Old',\n",
       "       'Conc_Net_LE_4_TDR_Long_Old', 'Conc_Net_LE_4_TDR_Short_Old',\n",
       "       'Conc_Net_LE_8_TDR_Long_Old', 'Conc_Net_LE_8_TDR_Short_Old',\n",
       "       'Conc_Gross_LE_4_TDR_Long_Other', 'Conc_Gross_LE_4_TDR_Short_Other',\n",
       "       'Conc_Gross_LE_8_TDR_Long_Other', 'Conc_Gross_LE_8_TDR_Short_Other',\n",
       "       'Conc_Net_LE_4_TDR_Long_Other', 'Conc_Net_LE_4_TDR_Short_Other',\n",
       "       'Conc_Net_LE_8_TDR_Long_Other', 'Conc_Net_LE_8_TDR_Short_Other'],\n",
       "      dtype='object')"
      ]
     },
     "execution_count": 17,
     "metadata": {},
     "output_type": "execute_result"
    }
   ],
   "source": [
    "df.dtypes[df.dtypes == \"float64\"].index"
   ]
  },
  {
   "cell_type": "markdown",
   "metadata": {},
   "source": [
    "Most of the floating point values represent percentages of the OI counts above.  For example, \"Pct_of_Open_Interest_All\" is simply `Open_Interest_All / Open_Interest_All = 100%`:"
   ]
  },
  {
   "cell_type": "code",
   "execution_count": 18,
   "metadata": {},
   "outputs": [
    {
     "data": {
      "text/plain": [
       "100.0    70199\n",
       "Name: Pct_of_Open_Interest_All, dtype: int64"
      ]
     },
     "execution_count": 18,
     "metadata": {},
     "output_type": "execute_result"
    }
   ],
   "source": [
    "df['Pct_of_Open_Interest_All'].value_counts()"
   ]
  },
  {
   "cell_type": "markdown",
   "metadata": {},
   "source": [
    "The other values represent concentration of the n largest traders among all contracts: \n",
    "\n",
    "> The long report, in addition to the information in the short report, groups the data by crop year, where appropriate, and shows the concentration of positions held by the largest four and eight traders."
   ]
  },
  {
   "cell_type": "raw",
   "metadata": {},
   "source": []
  },
  {
   "cell_type": "code",
   "execution_count": 20,
   "metadata": {},
   "outputs": [
    {
     "data": {
      "text/plain": [
       "Index(['Conc_Gross_LE_4_TDR_Long_All', 'Conc_Gross_LE_4_TDR_Short_All',\n",
       "       'Conc_Gross_LE_8_TDR_Long_All', 'Conc_Gross_LE_8_TDR_Short_All',\n",
       "       'Conc_Net_LE_4_TDR_Long_All', 'Conc_Net_LE_4_TDR_Short_All',\n",
       "       'Conc_Net_LE_8_TDR_Long_All', 'Conc_Net_LE_8_TDR_Short_All',\n",
       "       'Conc_Gross_LE_4_TDR_Long_Old', 'Conc_Gross_LE_4_TDR_Short_Old',\n",
       "       'Conc_Gross_LE_8_TDR_Long_Old', 'Conc_Gross_LE_8_TDR_Short_Old',\n",
       "       'Conc_Net_LE_4_TDR_Long_Old', 'Conc_Net_LE_4_TDR_Short_Old',\n",
       "       'Conc_Net_LE_8_TDR_Long_Old', 'Conc_Net_LE_8_TDR_Short_Old',\n",
       "       'Conc_Gross_LE_4_TDR_Long_Other', 'Conc_Gross_LE_4_TDR_Short_Other',\n",
       "       'Conc_Gross_LE_8_TDR_Long_Other', 'Conc_Gross_LE_8_TDR_Short_Other',\n",
       "       'Conc_Net_LE_4_TDR_Long_Other', 'Conc_Net_LE_4_TDR_Short_Other',\n",
       "       'Conc_Net_LE_8_TDR_Long_Other', 'Conc_Net_LE_8_TDR_Short_Other'],\n",
       "      dtype='object')"
      ]
     },
     "execution_count": 20,
     "metadata": {},
     "output_type": "execute_result"
    }
   ],
   "source": [
    "floats = df.dtypes[df.dtypes == \"float64\"].index\n",
    "floats[floats.str.contains(\"Conc\")]"
   ]
  },
  {
   "cell_type": "markdown",
   "metadata": {},
   "source": [
    "#### string data\n",
    "\n",
    "Much of the data that pandas automatically sets to \"string dtype\" is actually numerical data with missing values.  Note that to indicate missing values in this dataset, they use a \".\" (period) rather than leaving it blank:\n",
    "\n",
    "> In order to preserve the confidentiality of traders, for any given commodity\n",
    "where a specific category has fewer than four active traders, the size of the relevant positions will be\n",
    "provided but the trader count will be suppressed (specifically, a “·” will appear for trader counts of\n",
    "fewer than four traders).\n",
    "\n",
    "Most of the columns in which we are missing data represent these trader counts, however we do have a fair amount of missing data in these \"Change\" columns.  These \"Change\" columns specify the change in OI w.r.t. the previous report (last week).  It's possible the nan values in these columns are after a holiday week or at the beginning of the year."
   ]
  },
  {
   "cell_type": "code",
   "execution_count": 21,
   "metadata": {},
   "outputs": [
    {
     "data": {
      "text/plain": [
       "(1369, 1369)"
      ]
     },
     "execution_count": 21,
     "metadata": {},
     "output_type": "execute_result"
    }
   ],
   "source": [
    "chg = df[\"Change_in_Open_Interest_All\"].copy()\n",
    "numMissing = pd.to_numeric(chg, errors=\"coerce\").isna().sum()\n",
    "numPeriod = chg[chg == \".\"].count()\n",
    "\n",
    "numMissing, numPeriod"
   ]
  },
  {
   "cell_type": "code",
   "execution_count": 22,
   "metadata": {},
   "outputs": [
    {
     "data": {
      "text/plain": [
       "05-07    71\n",
       "06-13    61\n",
       "01-27    17\n",
       "06-28    15\n",
       "12-17    13\n",
       "         ..\n",
       "09-10     1\n",
       "02-11     1\n",
       "10-12     1\n",
       "06-09     1\n",
       "01-08     1\n",
       "Name: Report_Date_as_YYYY-MM-DD, Length: 310, dtype: int64"
      ]
     },
     "execution_count": 22,
     "metadata": {},
     "output_type": "execute_result"
    }
   ],
   "source": [
    "# is there some pattern in the dates that we are missing?\n",
    "chg = df[\"Change_in_Open_Interest_All\"].copy()\n",
    "df[pd.to_numeric(chg, errors=\"coerce\").isna()][\"Report_Date_as_YYYY-MM-DD\"].str.split(\"-\", n=1).str[1].value_counts()"
   ]
  },
  {
   "cell_type": "code",
   "execution_count": 23,
   "metadata": {},
   "outputs": [
    {
     "data": {
      "text/plain": [
       "(0, 0)"
      ]
     },
     "execution_count": 23,
     "metadata": {},
     "output_type": "execute_result"
    }
   ],
   "source": [
    "# note that we're missing all of these changes on the same dates.\n",
    "a = pd.to_numeric(df[\"Change_in_M_Money_Long_All\"], errors=\"coerce\").isna()\n",
    "b = pd.to_numeric(df[\"Change_in_M_Money_Short_All\"], errors=\"coerce\").isna()\n",
    "c = pd.to_numeric(df[\"Change_in_Other_Rept_Long_All\"], errors=\"coerce\").isna()\n",
    "\n",
    "(b != c).sum(), (a != b).sum()"
   ]
  },
  {
   "cell_type": "code",
   "execution_count": 24,
   "metadata": {},
   "outputs": [
    {
     "data": {
      "text/plain": [
       "27212"
      ]
     },
     "execution_count": 24,
     "metadata": {},
     "output_type": "execute_result"
    }
   ],
   "source": [
    "chg = df[\"Traders_Swap_Spread_All\"]\n",
    "chg[chg == \".\"].count()"
   ]
  },
  {
   "cell_type": "code",
   "execution_count": 25,
   "metadata": {},
   "outputs": [
    {
     "data": {
      "text/plain": [
       "Index(['Market_and_Exchange_Names', 'Report_Date_as_YYYY-MM-DD',\n",
       "       'CFTC_Contract_Market_Code', 'CFTC_Market_Code', 'Contract_Units',\n",
       "       'CFTC_Contract_Market_Code_Quotes', 'CFTC_Market_Code_Quotes',\n",
       "       'CFTC_SubGroup_Code', 'FutOnly_or_Combined'],\n",
       "      dtype='object')"
      ]
     },
     "execution_count": 25,
     "metadata": {},
     "output_type": "execute_result"
    }
   ],
   "source": [
    "# actual string / factor data\n",
    "strings = df.dtypes[df.dtypes == \"object\"].index\n",
    "strings[~strings.str.contains(\"Change\") & ~strings.str.contains(\"Traders\")]"
   ]
  },
  {
   "cell_type": "markdown",
   "metadata": {},
   "source": [
    "### Distribution of each feature?"
   ]
  },
  {
   "cell_type": "markdown",
   "metadata": {},
   "source": [
    "#### string / factor data"
   ]
  },
  {
   "cell_type": "code",
   "execution_count": 26,
   "metadata": {},
   "outputs": [
    {
     "data": {
      "text/plain": [
       "SOYBEANS - CHICAGO BOARD OF TRADE                               551\n",
       "NATURAL GAS - NEW YORK MERCANTILE EXCHANGE                      551\n",
       "RANDOM LENGTH LUMBER - CHICAGO MERCANTILE EXCHANGE              551\n",
       "CRUDE OIL, LIGHT SWEET - NEW YORK MERCANTILE EXCHANGE           551\n",
       "ROUGH RICE - CHICAGO BOARD OF TRADE                             551\n",
       "                                                               ... \n",
       "SOCAL INDEX SWAP - NEW YORK MERCANTILE EXCHANGE                   1\n",
       "WAHA INDEX SWAP - NEW YORK MERCANTILE EXCHANGE                    1\n",
       "CHICAGO HDD - CHICAGO MERCANTILE EXCHANGE                         1\n",
       "MT BELV NORM BUT LDH OPIS SWP - NEW YORK MERCANTILE EXCHANGE      1\n",
       "PJM.N ILLINOIS HUB_month_off_dap - NODAL EXCHANGE                 1\n",
       "Name: Market_and_Exchange_Names, Length: 523, dtype: int64"
      ]
     },
     "execution_count": 26,
     "metadata": {},
     "output_type": "execute_result"
    }
   ],
   "source": [
    "df[\"Market_and_Exchange_Names\"].value_counts()"
   ]
  },
  {
   "cell_type": "code",
   "execution_count": 27,
   "metadata": {},
   "outputs": [
    {
     "data": {
      "text/plain": [
       "<matplotlib.axes._subplots.AxesSubplot at 0x2202145d448>"
      ]
     },
     "execution_count": 27,
     "metadata": {},
     "output_type": "execute_result"
    },
    {
     "data": {
      "image/png": "[encoded data removed]",
      "text/plain": [
       "<Figure size 1500x900 with 1 Axes>"
      ]
     },
     "metadata": {
      "needs_background": "light"
     },
     "output_type": "display_data"
    }
   ],
   "source": [
    "df[\"Market_and_Exchange_Names\"].str.split(\"-\").str[1].value_counts(normalize=True).sort_values().tail(10).plot.barh()"
   ]
  },
  {
   "cell_type": "code",
   "execution_count": 28,
   "metadata": {},
   "outputs": [
    {
     "data": {
      "text/plain": [
       "<matplotlib.axes._subplots.AxesSubplot at 0x2202163cfc8>"
      ]
     },
     "execution_count": 28,
     "metadata": {},
     "output_type": "execute_result"
    },
    {
     "data": {
      "image/png": "[encoded data removed]",
      "text/plain": [
       "<Figure size 1500x900 with 1 Axes>"
      ]
     },
     "metadata": {
      "needs_background": "light"
     },
     "output_type": "display_data"
    }
   ],
   "source": [
    "# note that this is counting markets based on the text from the exchange, which may not be universal\n",
    "df[\"Market_and_Exchange_Names\"].str.split(\"-\").str[0].value_counts(normalize=True).sort_values().tail(10).plot.barh()"
   ]
  },
  {
   "cell_type": "code",
   "execution_count": 29,
   "metadata": {},
   "outputs": [],
   "source": [
    "dates = df[\"Report_Date_as_YYYY-MM-DD\"].str.split(\"-\", expand=True).rename({\n",
    "    0: \"year\",\n",
    "    1: \"month\",\n",
    "    2: \"day\"\n",
    "}, axis=1)"
   ]
  },
  {
   "cell_type": "markdown",
   "metadata": {},
   "source": [
    "It seems that there was a large increase in the quantity of futures markets in 2013 / 2014.  Note that the values we're counting here represent the count of rows in our dataset.  It's possible there was a policy change put into place in 2013 that made running a futures market more attractive."
   ]
  },
  {
   "cell_type": "code",
   "execution_count": 30,
   "metadata": {},
   "outputs": [
    {
     "data": {
      "text/plain": [
       "<matplotlib.axes._subplots.AxesSubplot at 0x2202216aa08>"
      ]
     },
     "execution_count": 30,
     "metadata": {},
     "output_type": "execute_result"
    },
    {
     "data": {
      "image/png": "[encoded data removed]",
      "text/plain": [
       "<Figure size 1500x900 with 1 Axes>"
      ]
     },
     "metadata": {
      "needs_background": "light"
     },
     "output_type": "display_data"
    }
   ],
   "source": [
    "dates.year.value_counts().sort_index().plot.bar()"
   ]
  },
  {
   "cell_type": "code",
   "execution_count": 31,
   "metadata": {},
   "outputs": [
    {
     "data": {
      "text/plain": [
       "<matplotlib.axes._subplots.AxesSubplot at 0x220220c8588>"
      ]
     },
     "execution_count": 31,
     "metadata": {},
     "output_type": "execute_result"
    },
    {
     "data": {
      "image/png": "[encoded data removed]",
      "text/plain": [
       "<Figure size 1500x900 with 1 Axes>"
      ]
     },
     "metadata": {
      "needs_background": "light"
     },
     "output_type": "display_data"
    }
   ],
   "source": [
    "dates.month.value_counts().sort_index().plot.bar()"
   ]
  },
  {
   "cell_type": "markdown",
   "metadata": {},
   "source": [
    "Note that many futures expire on the start of the month, so we do expect to see somewhat of a dip in open interest towards the end of the month, as most traders do not want to actually fulfill a future."
   ]
  },
  {
   "cell_type": "code",
   "execution_count": 32,
   "metadata": {},
   "outputs": [
    {
     "data": {
      "text/plain": [
       "<matplotlib.axes._subplots.AxesSubplot at 0x220220d0308>"
      ]
     },
     "execution_count": 32,
     "metadata": {},
     "output_type": "execute_result"
    },
    {
     "data": {
      "image/png": "[encoded data removed]",
      "text/plain": [
       "<Figure size 1500x900 with 1 Axes>"
      ]
     },
     "metadata": {
      "needs_background": "light"
     },
     "output_type": "display_data"
    }
   ],
   "source": [
    "dates.day.value_counts().sort_index().plot.bar()"
   ]
  },
  {
   "cell_type": "code",
   "execution_count": null,
   "metadata": {},
   "outputs": [],
   "source": []
  },
  {
   "cell_type": "code",
   "execution_count": 33,
   "metadata": {},
   "outputs": [
    {
     "ename": "NameError",
     "evalue": "name 'normalize' is not defined",
     "output_type": "error",
     "traceback": [
      "\u001b[1;31m---------------------------------------------------------------------------\u001b[0m",
      "\u001b[1;31mNameError\u001b[0m                                 Traceback (most recent call last)",
      "\u001b[1;32m<ipython-input-33-74927f92850a>\u001b[0m in \u001b[0;36m<module>\u001b[1;34m\u001b[0m\n\u001b[1;32m----> 1\u001b[1;33m \u001b[0mdf\u001b[0m\u001b[1;33m[\u001b[0m\u001b[1;34m\"Contract_Units\"\u001b[0m\u001b[1;33m]\u001b[0m\u001b[1;33m.\u001b[0m\u001b[0mvalue_counts\u001b[0m\u001b[1;33m(\u001b[0m\u001b[0mnormalize\u001b[0m\u001b[1;33m)\u001b[0m\u001b[1;33m.\u001b[0m\u001b[0mhead\u001b[0m\u001b[1;33m(\u001b[0m\u001b[1;36m10\u001b[0m\u001b[1;33m)\u001b[0m\u001b[1;33m\u001b[0m\u001b[1;33m\u001b[0m\u001b[0m\n\u001b[0m",
      "\u001b[1;31mNameError\u001b[0m: name 'normalize' is not defined"
     ]
    }
   ],
   "source": [
    "df[\"Contract_Units\"].value_counts(normalize).head(10)"
   ]
  },
  {
   "cell_type": "code",
   "execution_count": 34,
   "metadata": {},
   "outputs": [
    {
     "data": {
      "text/plain": [
       "0        446777\n",
       "1        447386\n",
       "2        443306\n",
       "3        436214\n",
       "4        444341\n",
       "          ...  \n",
       "70194     16978\n",
       "70195     16460\n",
       "70196     17842\n",
       "70197     16797\n",
       "70198     16426\n",
       "Name: Open_Interest_All, Length: 70199, dtype: int64"
      ]
     },
     "execution_count": 34,
     "metadata": {},
     "output_type": "execute_result"
    }
   ],
   "source": [
    "df[\"Open_Interest_All\"]"
   ]
  },
  {
   "cell_type": "code",
   "execution_count": 35,
   "metadata": {},
   "outputs": [
    {
     "data": {
      "text/plain": [
       "026603    551\n",
       "040701    551\n",
       "080732    551\n",
       "039601    551\n",
       "001612    551\n",
       "         ... \n",
       "023A12      1\n",
       "002603      1\n",
       "023A23      1\n",
       "0643A5      1\n",
       "064IAN      1\n",
       "Name: CFTC_Contract_Market_Code_Quotes, Length: 402, dtype: int64"
      ]
     },
     "execution_count": 35,
     "metadata": {},
     "output_type": "execute_result"
    }
   ],
   "source": [
    "df[\"CFTC_Contract_Market_Code_Quotes\"].value_counts()"
   ]
  },
  {
   "cell_type": "code",
   "execution_count": 36,
   "metadata": {},
   "outputs": [
    {
     "data": {
      "text/plain": [
       "NYME    33144\n",
       "IFED    18290\n",
       "CBT      3946\n",
       "CME      3052\n",
       "NODX     2531\n",
       "ICUS     2319\n",
       "CMX      1410\n",
       "ICE      1382\n",
       "CBT       761\n",
       "CME       728\n",
       "MGE       470\n",
       "CCX       457\n",
       "NYBT      436\n",
       "KCBT      392\n",
       "ICEU      388\n",
       "CMX       303\n",
       "MGE        81\n",
       "PBOT       77\n",
       "GE         19\n",
       "DUMX       13\n",
       "Name: CFTC_Market_Code_Quotes, dtype: int64"
      ]
     },
     "execution_count": 36,
     "metadata": {},
     "output_type": "execute_result"
    }
   ],
   "source": [
    "df[\"CFTC_Market_Code_Quotes\"].value_counts()"
   ]
  },
  {
   "cell_type": "code",
   "execution_count": 37,
   "metadata": {},
   "outputs": [
    {
     "data": {
      "text/plain": [
       "64     21491\n",
       "23     14328\n",
       "21      4281\n",
       "67      3190\n",
       "66      1807\n",
       "1       1653\n",
       "22      1424\n",
       "111     1393\n",
       "6       1245\n",
       "864      937\n",
       "25       894\n",
       "865      873\n",
       "5        870\n",
       "52       834\n",
       "866      629\n",
       "24       607\n",
       "2        552\n",
       "76       551\n",
       "80       551\n",
       "73       551\n",
       "83       551\n",
       "84       551\n",
       "7        551\n",
       "85       551\n",
       "4        551\n",
       "75       551\n",
       "88       551\n",
       "40       551\n",
       "61       551\n",
       "33       551\n",
       "58       551\n",
       "57       551\n",
       "54       551\n",
       "39       551\n",
       "26       551\n",
       "32       550\n",
       "863      456\n",
       "262      435\n",
       "50       368\n",
       "63       320\n",
       "967      296\n",
       "867      239\n",
       "192      184\n",
       "868      158\n",
       "195      139\n",
       "191       60\n",
       "56        44\n",
       "869       14\n",
       "160       10\n",
       "Name: CFTC_Commodity_Code_Quotes, dtype: int64"
      ]
     },
     "execution_count": 37,
     "metadata": {},
     "output_type": "execute_result"
    }
   ],
   "source": [
    "df[\"CFTC_Commodity_Code_Quotes\"].value_counts()"
   ]
  },
  {
   "cell_type": "code",
   "execution_count": 38,
   "metadata": {},
   "outputs": [
    {
     "data": {
      "text/plain": [
       "N16    22098\n",
       "N13    15957\n",
       "N10    15947\n",
       "A10     3307\n",
       "N20     2382\n",
       "A50     2204\n",
       "A30     1972\n",
       "A20     1697\n",
       "A25     1522\n",
       "N60     1245\n",
       "N25      756\n",
       "N30      551\n",
       "A40      551\n",
       "N70       10\n",
       "Name: CFTC_SubGroup_Code, dtype: int64"
      ]
     },
     "execution_count": 38,
     "metadata": {},
     "output_type": "execute_result"
    }
   ],
   "source": [
    "df[\"CFTC_SubGroup_Code\"].value_counts()"
   ]
  },
  {
   "cell_type": "code",
   "execution_count": null,
   "metadata": {},
   "outputs": [],
   "source": []
  },
  {
   "cell_type": "markdown",
   "metadata": {},
   "source": [
    "### What do the numeric features represent? Counts? Measurements?"
   ]
  },
  {
   "cell_type": "code",
   "execution_count": null,
   "metadata": {},
   "outputs": [],
   "source": []
  },
  {
   "cell_type": "markdown",
   "metadata": {},
   "source": [
    "### What are the pairwise relationships between numeric features?"
   ]
  },
  {
   "cell_type": "code",
   "execution_count": null,
   "metadata": {},
   "outputs": [],
   "source": []
  },
  {
   "cell_type": "markdown",
   "metadata": {},
   "source": [
    "## Brainstorming\n",
    "\n",
    "Let's take a step back and connect your dataset to its real-world context.  \n",
    "\n",
    "Consider what these features and values actually represent.  Is there anything unexpected about the features?  What biases or thoughts did you have about this topic before exploring the data?  List off some \"facts\" that you think are true about your topic.  Our goal in EDA is to reconcile your perspective of the data / topic with the *truth* of the dataset.  What motivated you to choose this dataset?  What insights or questions are you investigating with this dataset?  Now that you've explored each of the features, which might be useful to you in your investigation?"
   ]
  },
  {
   "cell_type": "markdown",
   "metadata": {},
   "source": []
  },
  {
   "cell_type": "markdown",
   "metadata": {},
   "source": [
    "## Open-Ended EDA\n",
    "\n",
    "EDA is an iterative process.  It begins with answering initial questions which lead to more questions.  Using some of the brainstorming above, come up with at least one concrete investigation into your dataset.  This might be inspecting a specific irregularity, questioning a personal bias, or identifying a specific relationship between two features.  \n",
    "\n",
    "To do this, you'll likely need to select a subset of your dataset, transform it into a simpler format, and finally visualize or summarize it.  Visualizations are **highly** encouraged at this point!  It's much easier to understand relationships visually."
   ]
  },
  {
   "cell_type": "code",
   "execution_count": 40,
   "metadata": {},
   "outputs": [
    {
     "data": {
      "text/plain": [
       "Index(['Market_and_Exchange_Names', 'As_of_Date_In_Form_YYMMDD',\n",
       "       'Report_Date_as_YYYY-MM-DD', 'CFTC_Contract_Market_Code',\n",
       "       'CFTC_Market_Code', 'CFTC_Region_Code', 'CFTC_Commodity_Code',\n",
       "       'Open_Interest_All', 'Prod_Merc_Positions_Long_All',\n",
       "       'Prod_Merc_Positions_Short_All',\n",
       "       ...\n",
       "       'Conc_Net_LE_4_TDR_Long_Other', 'Conc_Net_LE_4_TDR_Short_Other',\n",
       "       'Conc_Net_LE_8_TDR_Long_Other', 'Conc_Net_LE_8_TDR_Short_Other',\n",
       "       'Contract_Units', 'CFTC_Contract_Market_Code_Quotes',\n",
       "       'CFTC_Market_Code_Quotes', 'CFTC_Commodity_Code_Quotes',\n",
       "       'CFTC_SubGroup_Code', 'FutOnly_or_Combined'],\n",
       "      dtype='object', length=191)"
      ]
     },
     "execution_count": 40,
     "metadata": {},
     "output_type": "execute_result"
    }
   ],
   "source": [
    "df.columns"
   ]
  },
  {
   "cell_type": "code",
   "execution_count": 41,
   "metadata": {},
   "outputs": [
    {
     "data": {
      "text/html": [
       "<div>\n",
       "<style scoped>\n",
       "    .dataframe tbody tr th:only-of-type {\n",
       "        vertical-align: middle;\n",
       "    }\n",
       "\n",
       "    .dataframe tbody tr th {\n",
       "        vertical-align: top;\n",
       "    }\n",
       "\n",
       "    .dataframe thead th {\n",
       "        text-align: right;\n",
       "    }\n",
       "</style>\n",
       "<table border=\"1\" class=\"dataframe\">\n",
       "  <thead>\n",
       "    <tr style=\"text-align: right;\">\n",
       "      <th></th>\n",
       "      <th>Market_and_Exchange_Names</th>\n",
       "      <th>As_of_Date_In_Form_YYMMDD</th>\n",
       "      <th>Report_Date_as_YYYY-MM-DD</th>\n",
       "      <th>CFTC_Contract_Market_Code</th>\n",
       "      <th>CFTC_Market_Code</th>\n",
       "      <th>CFTC_Region_Code</th>\n",
       "      <th>CFTC_Commodity_Code</th>\n",
       "      <th>Open_Interest_All</th>\n",
       "      <th>Prod_Merc_Positions_Long_All</th>\n",
       "      <th>Prod_Merc_Positions_Short_All</th>\n",
       "      <th>...</th>\n",
       "      <th>Conc_Net_LE_4_TDR_Long_Other</th>\n",
       "      <th>Conc_Net_LE_4_TDR_Short_Other</th>\n",
       "      <th>Conc_Net_LE_8_TDR_Long_Other</th>\n",
       "      <th>Conc_Net_LE_8_TDR_Short_Other</th>\n",
       "      <th>Contract_Units</th>\n",
       "      <th>CFTC_Contract_Market_Code_Quotes</th>\n",
       "      <th>CFTC_Market_Code_Quotes</th>\n",
       "      <th>CFTC_Commodity_Code_Quotes</th>\n",
       "      <th>CFTC_SubGroup_Code</th>\n",
       "      <th>FutOnly_or_Combined</th>\n",
       "    </tr>\n",
       "  </thead>\n",
       "  <tbody>\n",
       "    <tr>\n",
       "      <td>0</td>\n",
       "      <td>WHEAT-SRW - CHICAGO BOARD OF TRADE</td>\n",
       "      <td>161227</td>\n",
       "      <td>2016-12-27</td>\n",
       "      <td>001602</td>\n",
       "      <td>CBT</td>\n",
       "      <td>0</td>\n",
       "      <td>1</td>\n",
       "      <td>446777</td>\n",
       "      <td>77925</td>\n",
       "      <td>75382</td>\n",
       "      <td>...</td>\n",
       "      <td>23.7</td>\n",
       "      <td>18.5</td>\n",
       "      <td>35.4</td>\n",
       "      <td>29.0</td>\n",
       "      <td>(CONTRACTS OF 5,000 BUSHELS)</td>\n",
       "      <td>001602</td>\n",
       "      <td>CBT</td>\n",
       "      <td>1</td>\n",
       "      <td>A10</td>\n",
       "      <td>FutOnly</td>\n",
       "    </tr>\n",
       "    <tr>\n",
       "      <td>1</td>\n",
       "      <td>WHEAT-SRW - CHICAGO BOARD OF TRADE</td>\n",
       "      <td>161220</td>\n",
       "      <td>2016-12-20</td>\n",
       "      <td>001602</td>\n",
       "      <td>CBT</td>\n",
       "      <td>0</td>\n",
       "      <td>1</td>\n",
       "      <td>447386</td>\n",
       "      <td>76390</td>\n",
       "      <td>70886</td>\n",
       "      <td>...</td>\n",
       "      <td>23.9</td>\n",
       "      <td>17.4</td>\n",
       "      <td>35.1</td>\n",
       "      <td>28.0</td>\n",
       "      <td>(CONTRACTS OF 5,000 BUSHELS)</td>\n",
       "      <td>001602</td>\n",
       "      <td>CBT</td>\n",
       "      <td>1</td>\n",
       "      <td>A10</td>\n",
       "      <td>FutOnly</td>\n",
       "    </tr>\n",
       "    <tr>\n",
       "      <td>2</td>\n",
       "      <td>WHEAT-SRW - CHICAGO BOARD OF TRADE</td>\n",
       "      <td>161213</td>\n",
       "      <td>2016-12-13</td>\n",
       "      <td>001602</td>\n",
       "      <td>CBT</td>\n",
       "      <td>0</td>\n",
       "      <td>1</td>\n",
       "      <td>443306</td>\n",
       "      <td>72600</td>\n",
       "      <td>76785</td>\n",
       "      <td>...</td>\n",
       "      <td>24.6</td>\n",
       "      <td>17.3</td>\n",
       "      <td>34.8</td>\n",
       "      <td>27.6</td>\n",
       "      <td>(CONTRACTS OF 5,000 BUSHELS)</td>\n",
       "      <td>001602</td>\n",
       "      <td>CBT</td>\n",
       "      <td>1</td>\n",
       "      <td>A10</td>\n",
       "      <td>FutOnly</td>\n",
       "    </tr>\n",
       "    <tr>\n",
       "      <td>3</td>\n",
       "      <td>WHEAT-SRW - CHICAGO BOARD OF TRADE</td>\n",
       "      <td>161206</td>\n",
       "      <td>2016-12-06</td>\n",
       "      <td>001602</td>\n",
       "      <td>CBT</td>\n",
       "      <td>0</td>\n",
       "      <td>1</td>\n",
       "      <td>436214</td>\n",
       "      <td>77532</td>\n",
       "      <td>61394</td>\n",
       "      <td>...</td>\n",
       "      <td>26.8</td>\n",
       "      <td>17.9</td>\n",
       "      <td>38.8</td>\n",
       "      <td>28.9</td>\n",
       "      <td>(CONTRACTS OF 5,000 BUSHELS)</td>\n",
       "      <td>001602</td>\n",
       "      <td>CBT</td>\n",
       "      <td>1</td>\n",
       "      <td>A10</td>\n",
       "      <td>FutOnly</td>\n",
       "    </tr>\n",
       "    <tr>\n",
       "      <td>4</td>\n",
       "      <td>WHEAT-SRW - CHICAGO BOARD OF TRADE</td>\n",
       "      <td>161129</td>\n",
       "      <td>2016-11-29</td>\n",
       "      <td>001602</td>\n",
       "      <td>CBT</td>\n",
       "      <td>0</td>\n",
       "      <td>1</td>\n",
       "      <td>444341</td>\n",
       "      <td>77239</td>\n",
       "      <td>63334</td>\n",
       "      <td>...</td>\n",
       "      <td>29.1</td>\n",
       "      <td>16.2</td>\n",
       "      <td>39.5</td>\n",
       "      <td>27.3</td>\n",
       "      <td>(CONTRACTS OF 5,000 BUSHELS)</td>\n",
       "      <td>001602</td>\n",
       "      <td>CBT</td>\n",
       "      <td>1</td>\n",
       "      <td>A10</td>\n",
       "      <td>FutOnly</td>\n",
       "    </tr>\n",
       "  </tbody>\n",
       "</table>\n",
       "<p>5 rows × 191 columns</p>\n",
       "</div>"
      ],
      "text/plain": [
       "            Market_and_Exchange_Names  As_of_Date_In_Form_YYMMDD  \\\n",
       "0  WHEAT-SRW - CHICAGO BOARD OF TRADE                     161227   \n",
       "1  WHEAT-SRW - CHICAGO BOARD OF TRADE                     161220   \n",
       "2  WHEAT-SRW - CHICAGO BOARD OF TRADE                     161213   \n",
       "3  WHEAT-SRW - CHICAGO BOARD OF TRADE                     161206   \n",
       "4  WHEAT-SRW - CHICAGO BOARD OF TRADE                     161129   \n",
       "\n",
       "  Report_Date_as_YYYY-MM-DD CFTC_Contract_Market_Code CFTC_Market_Code  \\\n",
       "0                2016-12-27                    001602             CBT    \n",
       "1                2016-12-20                    001602             CBT    \n",
       "2                2016-12-13                    001602             CBT    \n",
       "3                2016-12-06                    001602             CBT    \n",
       "4                2016-11-29                    001602             CBT    \n",
       "\n",
       "   CFTC_Region_Code  CFTC_Commodity_Code  Open_Interest_All  \\\n",
       "0                 0                    1             446777   \n",
       "1                 0                    1             447386   \n",
       "2                 0                    1             443306   \n",
       "3                 0                    1             436214   \n",
       "4                 0                    1             444341   \n",
       "\n",
       "   Prod_Merc_Positions_Long_All  Prod_Merc_Positions_Short_All  ...  \\\n",
       "0                         77925                          75382  ...   \n",
       "1                         76390                          70886  ...   \n",
       "2                         72600                          76785  ...   \n",
       "3                         77532                          61394  ...   \n",
       "4                         77239                          63334  ...   \n",
       "\n",
       "   Conc_Net_LE_4_TDR_Long_Other  Conc_Net_LE_4_TDR_Short_Other  \\\n",
       "0                          23.7                           18.5   \n",
       "1                          23.9                           17.4   \n",
       "2                          24.6                           17.3   \n",
       "3                          26.8                           17.9   \n",
       "4                          29.1                           16.2   \n",
       "\n",
       "   Conc_Net_LE_8_TDR_Long_Other  Conc_Net_LE_8_TDR_Short_Other  \\\n",
       "0                          35.4                           29.0   \n",
       "1                          35.1                           28.0   \n",
       "2                          34.8                           27.6   \n",
       "3                          38.8                           28.9   \n",
       "4                          39.5                           27.3   \n",
       "\n",
       "                 Contract_Units  CFTC_Contract_Market_Code_Quotes  \\\n",
       "0  (CONTRACTS OF 5,000 BUSHELS)                            001602   \n",
       "1  (CONTRACTS OF 5,000 BUSHELS)                            001602   \n",
       "2  (CONTRACTS OF 5,000 BUSHELS)                            001602   \n",
       "3  (CONTRACTS OF 5,000 BUSHELS)                            001602   \n",
       "4  (CONTRACTS OF 5,000 BUSHELS)                            001602   \n",
       "\n",
       "   CFTC_Market_Code_Quotes  CFTC_Commodity_Code_Quotes  CFTC_SubGroup_Code  \\\n",
       "0                     CBT                            1                 A10   \n",
       "1                     CBT                            1                 A10   \n",
       "2                     CBT                            1                 A10   \n",
       "3                     CBT                            1                 A10   \n",
       "4                     CBT                            1                 A10   \n",
       "\n",
       "   FutOnly_or_Combined  \n",
       "0              FutOnly  \n",
       "1              FutOnly  \n",
       "2              FutOnly  \n",
       "3              FutOnly  \n",
       "4              FutOnly  \n",
       "\n",
       "[5 rows x 191 columns]"
      ]
     },
     "execution_count": 41,
     "metadata": {},
     "output_type": "execute_result"
    }
   ],
   "source": [
    "df.head()"
   ]
  },
  {
   "cell_type": "code",
   "execution_count": 42,
   "metadata": {},
   "outputs": [
    {
     "data": {
      "text/html": [
       "<div>\n",
       "<style scoped>\n",
       "    .dataframe tbody tr th:only-of-type {\n",
       "        vertical-align: middle;\n",
       "    }\n",
       "\n",
       "    .dataframe tbody tr th {\n",
       "        vertical-align: top;\n",
       "    }\n",
       "\n",
       "    .dataframe thead th {\n",
       "        text-align: right;\n",
       "    }\n",
       "</style>\n",
       "<table border=\"1\" class=\"dataframe\">\n",
       "  <thead>\n",
       "    <tr style=\"text-align: right;\">\n",
       "      <th></th>\n",
       "      <th>As_of_Date_In_Form_YYMMDD</th>\n",
       "      <th>CFTC_Region_Code</th>\n",
       "      <th>CFTC_Commodity_Code</th>\n",
       "      <th>Open_Interest_All</th>\n",
       "      <th>Prod_Merc_Positions_Long_All</th>\n",
       "      <th>Prod_Merc_Positions_Short_All</th>\n",
       "      <th>Swap_Positions_Long_All</th>\n",
       "      <th>Swap__Positions_Short_All</th>\n",
       "      <th>Swap__Positions_Spread_All</th>\n",
       "      <th>M_Money_Positions_Long_All</th>\n",
       "      <th>...</th>\n",
       "      <th>Conc_Net_LE_8_TDR_Short_Old</th>\n",
       "      <th>Conc_Gross_LE_4_TDR_Long_Other</th>\n",
       "      <th>Conc_Gross_LE_4_TDR_Short_Other</th>\n",
       "      <th>Conc_Gross_LE_8_TDR_Long_Other</th>\n",
       "      <th>Conc_Gross_LE_8_TDR_Short_Other</th>\n",
       "      <th>Conc_Net_LE_4_TDR_Long_Other</th>\n",
       "      <th>Conc_Net_LE_4_TDR_Short_Other</th>\n",
       "      <th>Conc_Net_LE_8_TDR_Long_Other</th>\n",
       "      <th>Conc_Net_LE_8_TDR_Short_Other</th>\n",
       "      <th>CFTC_Commodity_Code_Quotes</th>\n",
       "    </tr>\n",
       "  </thead>\n",
       "  <tbody>\n",
       "    <tr>\n",
       "      <td>count</td>\n",
       "      <td>70199.000000</td>\n",
       "      <td>70199.000000</td>\n",
       "      <td>70199.000000</td>\n",
       "      <td>7.019900e+04</td>\n",
       "      <td>7.019900e+04</td>\n",
       "      <td>7.019900e+04</td>\n",
       "      <td>7.019900e+04</td>\n",
       "      <td>7.019900e+04</td>\n",
       "      <td>70199.000000</td>\n",
       "      <td>7.019900e+04</td>\n",
       "      <td>...</td>\n",
       "      <td>70199.000000</td>\n",
       "      <td>70199.000000</td>\n",
       "      <td>70199.000000</td>\n",
       "      <td>70199.000000</td>\n",
       "      <td>70199.000000</td>\n",
       "      <td>70199.000000</td>\n",
       "      <td>70199.000000</td>\n",
       "      <td>70199.000000</td>\n",
       "      <td>70199.000000</td>\n",
       "      <td>70199.000000</td>\n",
       "    </tr>\n",
       "    <tr>\n",
       "      <td>mean</td>\n",
       "      <td>124061.827049</td>\n",
       "      <td>0.857875</td>\n",
       "      <td>90.687118</td>\n",
       "      <td>2.466283e+05</td>\n",
       "      <td>1.177121e+05</td>\n",
       "      <td>1.249994e+05</td>\n",
       "      <td>3.534565e+04</td>\n",
       "      <td>4.204163e+04</td>\n",
       "      <td>20453.465505</td>\n",
       "      <td>2.280738e+04</td>\n",
       "      <td>...</td>\n",
       "      <td>54.973970</td>\n",
       "      <td>4.817187</td>\n",
       "      <td>4.717240</td>\n",
       "      <td>6.256388</td>\n",
       "      <td>6.036931</td>\n",
       "      <td>4.491608</td>\n",
       "      <td>4.333399</td>\n",
       "      <td>5.742189</td>\n",
       "      <td>5.431274</td>\n",
       "      <td>90.687118</td>\n",
       "    </tr>\n",
       "    <tr>\n",
       "      <td>std</td>\n",
       "      <td>28990.594536</td>\n",
       "      <td>0.349180</td>\n",
       "      <td>184.882354</td>\n",
       "      <td>6.007910e+05</td>\n",
       "      <td>3.540987e+05</td>\n",
       "      <td>3.470150e+05</td>\n",
       "      <td>9.343085e+04</td>\n",
       "      <td>1.622937e+05</td>\n",
       "      <td>69869.291335</td>\n",
       "      <td>7.009941e+04</td>\n",
       "      <td>...</td>\n",
       "      <td>19.938783</td>\n",
       "      <td>15.373921</td>\n",
       "      <td>15.227868</td>\n",
       "      <td>18.999271</td>\n",
       "      <td>18.682799</td>\n",
       "      <td>14.450211</td>\n",
       "      <td>14.168460</td>\n",
       "      <td>17.560107</td>\n",
       "      <td>16.972556</td>\n",
       "      <td>184.882354</td>\n",
       "    </tr>\n",
       "    <tr>\n",
       "      <td>min</td>\n",
       "      <td>60613.000000</td>\n",
       "      <td>0.000000</td>\n",
       "      <td>1.000000</td>\n",
       "      <td>7.160000e+02</td>\n",
       "      <td>0.000000e+00</td>\n",
       "      <td>0.000000e+00</td>\n",
       "      <td>0.000000e+00</td>\n",
       "      <td>0.000000e+00</td>\n",
       "      <td>0.000000</td>\n",
       "      <td>0.000000e+00</td>\n",
       "      <td>...</td>\n",
       "      <td>0.000000</td>\n",
       "      <td>0.000000</td>\n",
       "      <td>0.000000</td>\n",
       "      <td>0.000000</td>\n",
       "      <td>0.000000</td>\n",
       "      <td>0.000000</td>\n",
       "      <td>0.000000</td>\n",
       "      <td>0.000000</td>\n",
       "      <td>0.000000</td>\n",
       "      <td>1.000000</td>\n",
       "    </tr>\n",
       "    <tr>\n",
       "      <td>25%</td>\n",
       "      <td>100803.000000</td>\n",
       "      <td>1.000000</td>\n",
       "      <td>23.000000</td>\n",
       "      <td>1.750200e+04</td>\n",
       "      <td>8.370000e+03</td>\n",
       "      <td>9.241500e+03</td>\n",
       "      <td>9.640000e+02</td>\n",
       "      <td>5.870000e+02</td>\n",
       "      <td>350.000000</td>\n",
       "      <td>0.000000e+00</td>\n",
       "      <td>...</td>\n",
       "      <td>40.600000</td>\n",
       "      <td>0.000000</td>\n",
       "      <td>0.000000</td>\n",
       "      <td>0.000000</td>\n",
       "      <td>0.000000</td>\n",
       "      <td>0.000000</td>\n",
       "      <td>0.000000</td>\n",
       "      <td>0.000000</td>\n",
       "      <td>0.000000</td>\n",
       "      <td>23.000000</td>\n",
       "    </tr>\n",
       "    <tr>\n",
       "      <td>50%</td>\n",
       "      <td>130716.000000</td>\n",
       "      <td>1.000000</td>\n",
       "      <td>64.000000</td>\n",
       "      <td>5.228700e+04</td>\n",
       "      <td>2.512000e+04</td>\n",
       "      <td>2.992200e+04</td>\n",
       "      <td>4.725000e+03</td>\n",
       "      <td>3.673000e+03</td>\n",
       "      <td>1920.000000</td>\n",
       "      <td>7.260000e+02</td>\n",
       "      <td>...</td>\n",
       "      <td>55.300000</td>\n",
       "      <td>0.000000</td>\n",
       "      <td>0.000000</td>\n",
       "      <td>0.000000</td>\n",
       "      <td>0.000000</td>\n",
       "      <td>0.000000</td>\n",
       "      <td>0.000000</td>\n",
       "      <td>0.000000</td>\n",
       "      <td>0.000000</td>\n",
       "      <td>64.000000</td>\n",
       "    </tr>\n",
       "    <tr>\n",
       "      <td>75%</td>\n",
       "      <td>150414.000000</td>\n",
       "      <td>1.000000</td>\n",
       "      <td>64.000000</td>\n",
       "      <td>2.029820e+05</td>\n",
       "      <td>8.007850e+04</td>\n",
       "      <td>1.061050e+05</td>\n",
       "      <td>3.073650e+04</td>\n",
       "      <td>1.713300e+04</td>\n",
       "      <td>8795.000000</td>\n",
       "      <td>1.048250e+04</td>\n",
       "      <td>...</td>\n",
       "      <td>69.400000</td>\n",
       "      <td>0.000000</td>\n",
       "      <td>0.000000</td>\n",
       "      <td>0.000000</td>\n",
       "      <td>0.000000</td>\n",
       "      <td>0.000000</td>\n",
       "      <td>0.000000</td>\n",
       "      <td>0.000000</td>\n",
       "      <td>0.000000</td>\n",
       "      <td>64.000000</td>\n",
       "    </tr>\n",
       "    <tr>\n",
       "      <td>max</td>\n",
       "      <td>161227.000000</td>\n",
       "      <td>1.000000</td>\n",
       "      <td>967.000000</td>\n",
       "      <td>1.005450e+07</td>\n",
       "      <td>8.012055e+06</td>\n",
       "      <td>9.182180e+06</td>\n",
       "      <td>1.950811e+06</td>\n",
       "      <td>3.103563e+06</td>\n",
       "      <td>870273.000000</td>\n",
       "      <td>1.470623e+06</td>\n",
       "      <td>...</td>\n",
       "      <td>100.000000</td>\n",
       "      <td>100.000000</td>\n",
       "      <td>100.000000</td>\n",
       "      <td>100.000000</td>\n",
       "      <td>100.000000</td>\n",
       "      <td>100.000000</td>\n",
       "      <td>100.000000</td>\n",
       "      <td>100.000000</td>\n",
       "      <td>100.000000</td>\n",
       "      <td>967.000000</td>\n",
       "    </tr>\n",
       "  </tbody>\n",
       "</table>\n",
       "<p>8 rows × 127 columns</p>\n",
       "</div>"
      ],
      "text/plain": [
       "       As_of_Date_In_Form_YYMMDD  CFTC_Region_Code  CFTC_Commodity_Code  \\\n",
       "count               70199.000000      70199.000000         70199.000000   \n",
       "mean               124061.827049          0.857875            90.687118   \n",
       "std                 28990.594536          0.349180           184.882354   \n",
       "min                 60613.000000          0.000000             1.000000   \n",
       "25%                100803.000000          1.000000            23.000000   \n",
       "50%                130716.000000          1.000000            64.000000   \n",
       "75%                150414.000000          1.000000            64.000000   \n",
       "max                161227.000000          1.000000           967.000000   \n",
       "\n",
       "       Open_Interest_All  Prod_Merc_Positions_Long_All  \\\n",
       "count       7.019900e+04                  7.019900e+04   \n",
       "mean        2.466283e+05                  1.177121e+05   \n",
       "std         6.007910e+05                  3.540987e+05   \n",
       "min         7.160000e+02                  0.000000e+00   \n",
       "25%         1.750200e+04                  8.370000e+03   \n",
       "50%         5.228700e+04                  2.512000e+04   \n",
       "75%         2.029820e+05                  8.007850e+04   \n",
       "max         1.005450e+07                  8.012055e+06   \n",
       "\n",
       "       Prod_Merc_Positions_Short_All  Swap_Positions_Long_All  \\\n",
       "count                   7.019900e+04             7.019900e+04   \n",
       "mean                    1.249994e+05             3.534565e+04   \n",
       "std                     3.470150e+05             9.343085e+04   \n",
       "min                     0.000000e+00             0.000000e+00   \n",
       "25%                     9.241500e+03             9.640000e+02   \n",
       "50%                     2.992200e+04             4.725000e+03   \n",
       "75%                     1.061050e+05             3.073650e+04   \n",
       "max                     9.182180e+06             1.950811e+06   \n",
       "\n",
       "       Swap__Positions_Short_All  Swap__Positions_Spread_All  \\\n",
       "count               7.019900e+04                70199.000000   \n",
       "mean                4.204163e+04                20453.465505   \n",
       "std                 1.622937e+05                69869.291335   \n",
       "min                 0.000000e+00                    0.000000   \n",
       "25%                 5.870000e+02                  350.000000   \n",
       "50%                 3.673000e+03                 1920.000000   \n",
       "75%                 1.713300e+04                 8795.000000   \n",
       "max                 3.103563e+06               870273.000000   \n",
       "\n",
       "       M_Money_Positions_Long_All  ...  Conc_Net_LE_8_TDR_Short_Old  \\\n",
       "count                7.019900e+04  ...                 70199.000000   \n",
       "mean                 2.280738e+04  ...                    54.973970   \n",
       "std                  7.009941e+04  ...                    19.938783   \n",
       "min                  0.000000e+00  ...                     0.000000   \n",
       "25%                  0.000000e+00  ...                    40.600000   \n",
       "50%                  7.260000e+02  ...                    55.300000   \n",
       "75%                  1.048250e+04  ...                    69.400000   \n",
       "max                  1.470623e+06  ...                   100.000000   \n",
       "\n",
       "       Conc_Gross_LE_4_TDR_Long_Other  Conc_Gross_LE_4_TDR_Short_Other  \\\n",
       "count                    70199.000000                     70199.000000   \n",
       "mean                         4.817187                         4.717240   \n",
       "std                         15.373921                        15.227868   \n",
       "min                          0.000000                         0.000000   \n",
       "25%                          0.000000                         0.000000   \n",
       "50%                          0.000000                         0.000000   \n",
       "75%                          0.000000                         0.000000   \n",
       "max                        100.000000                       100.000000   \n",
       "\n",
       "       Conc_Gross_LE_8_TDR_Long_Other  Conc_Gross_LE_8_TDR_Short_Other  \\\n",
       "count                    70199.000000                     70199.000000   \n",
       "mean                         6.256388                         6.036931   \n",
       "std                         18.999271                        18.682799   \n",
       "min                          0.000000                         0.000000   \n",
       "25%                          0.000000                         0.000000   \n",
       "50%                          0.000000                         0.000000   \n",
       "75%                          0.000000                         0.000000   \n",
       "max                        100.000000                       100.000000   \n",
       "\n",
       "       Conc_Net_LE_4_TDR_Long_Other  Conc_Net_LE_4_TDR_Short_Other  \\\n",
       "count                  70199.000000                   70199.000000   \n",
       "mean                       4.491608                       4.333399   \n",
       "std                       14.450211                      14.168460   \n",
       "min                        0.000000                       0.000000   \n",
       "25%                        0.000000                       0.000000   \n",
       "50%                        0.000000                       0.000000   \n",
       "75%                        0.000000                       0.000000   \n",
       "max                      100.000000                     100.000000   \n",
       "\n",
       "       Conc_Net_LE_8_TDR_Long_Other  Conc_Net_LE_8_TDR_Short_Other  \\\n",
       "count                  70199.000000                   70199.000000   \n",
       "mean                       5.742189                       5.431274   \n",
       "std                       17.560107                      16.972556   \n",
       "min                        0.000000                       0.000000   \n",
       "25%                        0.000000                       0.000000   \n",
       "50%                        0.000000                       0.000000   \n",
       "75%                        0.000000                       0.000000   \n",
       "max                      100.000000                     100.000000   \n",
       "\n",
       "       CFTC_Commodity_Code_Quotes  \n",
       "count                70199.000000  \n",
       "mean                    90.687118  \n",
       "std                    184.882354  \n",
       "min                      1.000000  \n",
       "25%                     23.000000  \n",
       "50%                     64.000000  \n",
       "75%                     64.000000  \n",
       "max                    967.000000  \n",
       "\n",
       "[8 rows x 127 columns]"
      ]
     },
     "execution_count": 42,
     "metadata": {},
     "output_type": "execute_result"
    }
   ],
   "source": [
    "df.describe()"
   ]
  },
  {
   "cell_type": "code",
   "execution_count": 49,
   "metadata": {},
   "outputs": [
    {
     "data": {
      "text/plain": [
       "count                                 70199\n",
       "unique                                  523\n",
       "top       SOYBEANS - CHICAGO BOARD OF TRADE\n",
       "freq                                    551\n",
       "Name: Market_and_Exchange_Names, dtype: object"
      ]
     },
     "execution_count": 49,
     "metadata": {},
     "output_type": "execute_result"
    }
   ],
   "source": [
    "datagroup = df['Market_and_Exchange_Names'].describe()\n",
    "datagroup"
   ]
  },
  {
   "cell_type": "code",
   "execution_count": null,
   "metadata": {},
   "outputs": [],
   "source": []
  }
 ],
 "metadata": {
  "kernelspec": {
   "display_name": "Python 3",
   "language": "python",
   "name": "python3"
  },
  "language_info": {
   "codemirror_mode": {
    "name": "ipython",
    "version": 3
   },
   "file_extension": ".py",
   "mimetype": "text/x-python",
   "name": "python",
   "nbconvert_exporter": "python",
   "pygments_lexer": "ipython3",
   "version": "3.7.4"
  }
 },
 "nbformat": 4,
 "nbformat_minor": 4
}
