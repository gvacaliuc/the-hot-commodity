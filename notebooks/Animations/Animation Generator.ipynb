{
 "cells": [
  {
   "cell_type": "code",
   "execution_count": 1,
   "metadata": {},
   "outputs": [],
   "source": [
    "import numpy as np\n",
    "import pandas as pd\n",
    "import matplotlib.pyplot as plt\n",
    "\n",
    "%matplotlib inline"
   ]
  },
  {
   "cell_type": "code",
   "execution_count": 2,
   "metadata": {},
   "outputs": [],
   "source": [
    "plt.rcParams[\"figure.figsize\"] = 10, 6\n",
    "plt.rcParams[\"figure.dpi\"] = 150"
   ]
  },
  {
   "cell_type": "code",
   "execution_count": 3,
   "metadata": {},
   "outputs": [],
   "source": [
    "import requests, zipfile, io\n",
    "import os.path\n",
    "\n",
    "if not os.path.exists(\"../../data/F_Disagg06_16.txt\"):\n",
    "    url = \"https://www.cftc.gov/files/dea/history/fut_disagg_txt_hist_2006_2016.zip\"\n",
    "\n",
    "    r = requests.get(url)\n",
    "    z = zipfile.ZipFile(io.BytesIO(r.content))\n",
    "    z.extractall(\"../../data\")"
   ]
  },
  {
   "cell_type": "code",
   "execution_count": 4,
   "metadata": {},
   "outputs": [],
   "source": [
    "df = pd.read_csv(\"../../data/F_Disagg06_16.txt\", low_memory=False)"
   ]
  },
  {
   "cell_type": "markdown",
   "metadata": {},
   "source": [
    "# Animation Generator\n",
    "This generates animated scatterplots by creating and saving several different scatterplots and then combining them into an animated GIF with a command line tool.\n",
    "\n",
    "There are two cells below (after the one to clear out any previous animation files), the first cell creates graphs for a single subbgroup over time. The second cell produces graphs showing all subgroups simultaniously over time.\n",
    "\n",
    "After running one of those cells, the following bash cell will produce a gif file out of the generated graphs."
   ]
  },
  {
   "cell_type": "code",
   "execution_count": null,
   "metadata": {},
   "outputs": [],
   "source": [
    "# Clear out previous graphs\n",
    "!rm -r ./graphs\n",
    "!mkdir ./graphs\n",
    "!rm ./animated_chart.gif"
   ]
  },
  {
   "cell_type": "code",
   "execution_count": null,
   "metadata": {},
   "outputs": [],
   "source": [
    "# Animate single group over time\n",
    "dates = df['Report_Date_as_YYYY-MM-DD'].unique()\n",
    "colors = [(230, 25, 75), (60, 180, 75), (255, 225, 25), (0, 130, 200), (245, 130, 48), (70, 240, 240), (240, 50, 230), (250, 190, 190), (0, 128, 128), (230, 190, 255), (170, 110, 40), (255, 250, 200), (128, 0, 0), (170, 255, 195), (0, 0, 128), (128, 128, 128), (255, 255, 255), (0, 0, 0)]\n",
    "prod_merc_data = []\n",
    "swap_data = []\n",
    "for subgroup_code in df['CFTC_SubGroup_Code'].unique()[:5]:\n",
    "    subgroup = df[df['CFTC_SubGroup_Code'] == subgroup_code]\n",
    "    by_date = subgroup.groupby('date')\n",
    "\n",
    "    prod_merc_data.append(by_date['Prod_Merc_Positions_Long_All'].sum() / by_date['Prod_Merc_Positions_Long_All'].sum().max())\n",
    "    swap_data.append(by_date['Swap_Positions_Long_All'].sum() / by_date['Swap_Positions_Long_All'].sum().max())\n",
    "\n",
    "\n",
    "# for i in range(40, 80, 5):\n",
    "my_dpi=96\n",
    "\n",
    "for i in range(10, len(prod_merc), 4):\n",
    "    fig = plt.figure(figsize=(480/my_dpi, 480/my_dpi), dpi=my_dpi)\n",
    "    plt.xlim(0, 1)\n",
    "    plt.ylim(0, 1)\n",
    "    rgba_colors = np.zeros((15,4))\n",
    "    # the fourth column needs to be your alphas\n",
    "    rgba_colors[:, 3] = np.linspace(0, 1, 15) ** 3\n",
    "    for prod_merc, swap, color in zip(prod_merc_data, swap_data, colors):\n",
    "        # for red\n",
    "        rgba_colors[:,0] = color[0] / 255\n",
    "         # for green\n",
    "        rgba_colors[:,1] = color[1] / 255\n",
    "         # for blue\n",
    "        rgba_colors[:,2] = color[2] / 255\n",
    "\n",
    "        plt.scatter(prod_merc[i-15:i], \n",
    "                    swap[i-15:i],\n",
    "                    color=rgba_colors)\n",
    "\n",
    "    plt.title(subgroup_code + ' Prod/Merc vs. Swap ' + str(dates[i]))\n",
    "    plt.xlabel('Prod/Merc Positions')\n",
    "    plt.ylabel('Swap Positions')\n",
    "\n",
    "    filename='graphs/step'+str(i).zfill(3)+'.png'\n",
    "    plt.savefig(filename, dpi=96)\n",
    "    plt.close()"
   ]
  },
  {
   "cell_type": "code",
   "execution_count": null,
   "metadata": {},
   "outputs": [],
   "source": [
    "# Animate all subgroups over time\n",
    "dates = df['Report_Date_as_YYYY-MM-DD'].unique()\n",
    "\n",
    "subgroup_max_values = {}\n",
    "prod_max_values = {}\n",
    "swap_max_values = {}\n",
    "for subgroup_code in df['CFTC_SubGroup_Code'].unique():\n",
    "    subgroup = df[df['CFTC_SubGroup_Code'] == subgroup_code]\n",
    "    by_date = subgroup.groupby('date')\n",
    "    \n",
    "    subgroup_max_values[subgroup_code] = by_date['Tot_Rept_Positions_Long_All'].sum().max()\n",
    "    prod_max_values[subgroup_code] = by_date['Prod_Merc_Positions_Long_All'].sum().max()\n",
    "    swap_max_values[subgroup_code] = by_date['Swap_Positions_Long_All'].sum().max()\n",
    "\n",
    "my_dpi=70\n",
    "\n",
    "# Avg over two weeks at a time\n",
    "for i, dates in enumerate(zip(dates, dates[1:])):\n",
    "    date1, date2 = dates\n",
    "    fig = plt.figure(figsize=(300/my_dpi, 300/my_dpi), dpi=my_dpi)\n",
    "    plt.xlim(-0.02, 1.4)\n",
    "    plt.ylim(-0.02, 1.02)\n",
    "    \n",
    "    current_data = df[(df['Report_Date_as_YYYY-MM-DD'] == date1) | (df['Report_Date_as_YYYY-MM-DD'] == date2)]\n",
    "    for subgroup_code in sorted(subgroup_max_values.keys()):\n",
    "        subgroup = current_data[current_data['CFTC_SubGroup_Code'] == subgroup_code]\n",
    "        if len(subgroup) != 0:\n",
    "            prod_merc_data = subgroup['Prod_Merc_Positions_Long_All'].sum() * 0.5 / prod_max_values[subgroup_code]\n",
    "            swap_data = subgroup['Swap_Positions_Long_All'].sum() * 0.5 / swap_max_values[subgroup_code]\n",
    "        else:\n",
    "            prod_merc_data = [0]\n",
    "            swap_data = [0]\n",
    "        plt.scatter(prod_merc_data, \n",
    "                    swap_data,\n",
    "                    label=subgroup_code,\n",
    "                    s=150,\n",
    "                    alpha=0.7)\n",
    "\n",
    "    plt.title('Prod/Merc vs. Swap ' + str(date1))\n",
    "    plt.xlabel('Prod/Merc Positions')\n",
    "    plt.ylabel('Swap Positions')\n",
    "    plt.legend()\n",
    "\n",
    "    filename='graphs/step'+str(i).zfill(3)+'.png'\n",
    "    plt.savefig(filename, dpi=my_dpi)\n",
    "    plt.close()"
   ]
  },
  {
   "cell_type": "code",
   "execution_count": null,
   "metadata": {},
   "outputs": [],
   "source": [
    "!convert -delay 5 ./graphs/*.png animated_chart.gif"
   ]
  }
 ],
 "metadata": {
  "kernelspec": {
   "display_name": "Python 3",
   "language": "python",
   "name": "python3"
  },
  "language_info": {
   "codemirror_mode": {
    "name": "ipython",
    "version": 3
   },
   "file_extension": ".py",
   "mimetype": "text/x-python",
   "name": "python",
   "nbconvert_exporter": "python",
   "pygments_lexer": "ipython3",
   "version": "3.7.3"
  }
 },
 "nbformat": 4,
 "nbformat_minor": 2
}
