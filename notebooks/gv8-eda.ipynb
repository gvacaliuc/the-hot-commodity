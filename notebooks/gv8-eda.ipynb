{
 "cells": [
  {
   "cell_type": "markdown",
   "metadata": {},
   "source": [
    "# EDA Exercise\n",
    "\n",
    "To see a completed version of this exercise, refer to [`examples/eda-exercise`](https://datasci.rice.edu/deep/curriculum/examples/eda-exercise/)."
   ]
  },
  {
   "cell_type": "markdown",
   "metadata": {},
   "source": [
    "## Prerequisites\n",
    "\n",
    "You need to install Python! The most convenient distribution for us to use is the Anaconda Distribution, which you can install from here: https://docs.anaconda.com/anaconda/install/.\n",
    "\n",
    "After installation, ensure that you can follow these instructions to open Jupyter:\n",
    "https://jupyter-notebook-beginner-guide.readthedocs.io/en/latest/execute.html\n",
    "\n",
    "Once you've launched Jupyter, you should be able to double-click on a `.ipynb` file to open a new kernel.\n",
    "\n",
    "!!! warning \"Working Directory\"\n",
    "\n",
    "    You'll want to be careful about where you launch Jupyter and download data to.\n",
    "    It's best practice to create a folder for your deep project to organize data and \n",
    "    launch Jupyter from there.  If jupyter is started from a different directory it might\n",
    "    be hard to find your data / notebooks!"
   ]
  },
  {
   "cell_type": "code",
   "execution_count": 1,
   "metadata": {},
   "outputs": [],
   "source": [
    "# it's best practice to have your imports up top so others can immediately know what to install\n",
    "# if you import more modules, add them here\n",
    "import numpy as np\n",
    "import pandas as pd\n",
    "import matplotlib.pyplot as plt\n",
    "\n",
    "%matplotlib inline"
   ]
  },
  {
   "cell_type": "code",
   "execution_count": 2,
   "metadata": {},
   "outputs": [],
   "source": [
    "plt.rcParams[\"figure.figsize\"] = 10, 6\n",
    "plt.rcParams[\"figure.dpi\"] = 150"
   ]
  },
  {
   "cell_type": "code",
   "execution_count": 3,
   "metadata": {},
   "outputs": [],
   "source": [
    "plt.rcParams[\"figure.figsize\"] = 10, 6\n",
    "plt.rcParams[\"figure.dpi\"] = 150"
   ]
  },
  {
   "cell_type": "markdown",
   "metadata": {},
   "source": [
    "## Acquiring Data\n",
    "\n",
    "By now you've selected a dataset for this semester.  See below for examples of reading tabular data into Pandas:"
   ]
  },
  {
   "cell_type": "code",
   "execution_count": 4,
   "metadata": {},
   "outputs": [],
   "source": [
    "# reading from a CSV: https://pandas.pydata.org/pandas-docs/stable/reference/api/pandas.read_csv.html\n",
    "# df = pd.read_csv(\"data/foo.csv\")\n",
    "\n",
    "# reading from a CSV without column names\n",
    "# df = pd.read_csv(\"data/foo.csv\", columns=[\"date\", \"company\", \"valuation\"])"
   ]
  },
  {
   "cell_type": "markdown",
   "metadata": {},
   "source": [
    "# WARNING\n",
    "\n",
    "Be sure that you've installed all the dependencies for this project! From your terminal run:\n",
    "\n",
    "pip:\n",
    "```shell\n",
    "$ # make a virtual environment, e.g. mkvirtualenv deep\n",
    "$ # activate your virtual environment, e.g. workon deep\n",
    "$ pip install -r requirements.txt\n",
    "```\n",
    "\n",
    "conda:\n",
    "```shell\n",
    "$ conda env create --name deep --file requirements.txt\n",
    "$ conda activate deep\n",
    "```"
   ]
  },
  {
   "cell_type": "code",
   "execution_count": 20,
   "metadata": {},
   "outputs": [],
   "source": [
    "# https://www.cftc.gov/MarketReports/CommitmentsofTraders/HistoricalCompressed/index.htm\n",
    "import requests, zipfile, io\n",
    "\n",
    "url = \"https://www.cftc.gov/files/dea/history/fut_disagg_txt_hist_2006_2016.zip\"\n",
    "\n",
    "r = requests.get(url)\n",
    "z = zipfile.ZipFile(io.BytesIO(r.content))\n",
    "z.extractall(\"../data\")"
   ]
  },
  {
   "cell_type": "code",
   "execution_count": 5,
   "metadata": {},
   "outputs": [
    {
     "name": "stdout",
     "output_type": "stream",
     "text": [
      "F_Disagg06_16.txt\n"
     ]
    }
   ],
   "source": [
    "!ls ../data/"
   ]
  },
  {
   "cell_type": "code",
   "execution_count": 6,
   "metadata": {},
   "outputs": [
    {
     "name": "stdout",
     "output_type": "stream",
     "text": [
      "\"Market_and_Exchange_Names\",\"As_of_Date_In_Form_YYMMDD\",\"Report_Date_as_YYYY-MM-DD\",\"CFTC_Contract_Market_Code\",\"CFTC_Market_Code\",\"CFTC_Region_Code\",\"CFTC_Commodity_Code\",\"Open_Interest_All\",\"Prod_Merc_Positions_Long_All\",\"Prod_Merc_Positions_Short_All\",\"Swap_Positions_Long_All\",\"Swap__Positions_Short_All\",\"Swap__Positions_Spread_All\",\"M_Money_Positions_Long_All\",\"M_Money_Positions_Short_All\",\"M_Money_Positions_Spread_All\",\"Other_Rept_Positions_Long_All\",\"Other_Rept_Positions_Short_All\",\"Other_Rept_Positions_Spread_All\",\"Tot_Rept_Positions_Long_All\",\"Tot_Rept_Positions_Short_All\",\"NonRept_Positions_Long_All\",\"NonRept_Positions_Short_All\",\"Open_Interest_Old\",\"Prod_Merc_Positions_Long_Old\",\"Prod_Merc_Positions_Short_Old\",\"Swap_Positions_Long_Old\",\"Swap__Positions_Short_Old\",\"Swap__Positions_Spread_Old\",\"M_Money_Positions_Long_Old\",\"M_Money_Positions_Short_Old\",\"M_Money_Positions_Spread_Old\",\"Other_Rept_Positions_Long_Old\",\"Other_Rept_Positions_Short_Old\",\"Other_Rept_Positions_Spread_Old\",\"Tot_Rept_Positions_Long_Old\",\"Tot_Rept_Positions_Short_Old\",\"NonRept_Positions_Long_Old\",\"NonRept_Positions_Short_Old\",\"Open_Interest_Other\",\"Prod_Merc_Positions_Long_Other\",\"Prod_Merc_Positions_Short_Other\",\"Swap_Positions_Long_Other\",\"Swap__Positions_Short_Other\",\"Swap__Positions_Spread_Other\",\"M_Money_Positions_Long_Other\",\"M_Money_Positions_Short_Other\",\"M_Money_Positions_Spread_Other\",\"Other_Rept_Positions_Long_Other\",\"Other_Rept_Positions_Short_Other\",\"Other_Rept_Positions_Spread_Other\",\"Tot_Rept_Positions_Long_Other\",\"Tot_Rept_Positions_Short_Other\",\"NonRept_Positions_Long_Other\",\"NonRept_Positions_Short_Other\",\"Change_in_Open_Interest_All\",\"Change_in_Prod_Merc_Long_All\",\"Change_in_Prod_Merc_Short_All\",\"Change_in_Swap_Long_All\",\"Change_in_Swap_Short_All\",\"Change_in_Swap_Spread_All\",\"Change_in_M_Money_Long_All\",\"Change_in_M_Money_Short_All\",\"Change_in_M_Money_Spread_All\",\"Change_in_Other_Rept_Long_All\",\"Change_in_Other_Rept_Short_All\",\"Change_in_Other_Rept_Spread_All\",\"Change_in_Tot_Rept_Long_All\",\"Change_in_Tot_Rept_Short_All\",\"Change_in_NonRept_Long_All\",\"Change_in_NonRept_Short_All\",\"Pct_of_Open_Interest_All\",\"Pct_of_OI_Prod_Merc_Long_All\",\"Pct_of_OI_Prod_Merc_Short_All\",\"Pct_of_OI_Swap_Long_All\",\"Pct_of_OI_Swap_Short_All\",\"Pct_of_OI_Swap_Spread_All\",\"Pct_of_OI_M_Money_Long_All\",\"Pct_of_OI_M_Money_Short_All\",\"Pct_of_OI_M_Money_Spread_All\",\"Pct_of_OI_Other_Rept_Long_All\",\"Pct_of_OI_Other_Rept_Short_All\",\"Pct_of_OI_Other_Rept_Spread_All\",\"Pct_of_OI_Tot_Rept_Long_All\",\"Pct_of_OI_Tot_Rept_Short_All\",\"Pct_of_OI_NonRept_Long_All\",\"Pct_of_OI_NonRept_Short_All\",\"Pct_of_Open_Interest_Old\",\"Pct_of_OI_Prod_Merc_Long_Old\",\"Pct_of_OI_Prod_Merc_Short_Old\",\"Pct_of_OI_Swap_Long_Old\",\"Pct_of_OI_Swap_Short_Old\",\"Pct_of_OI_Swap_Spread_Old\",\"Pct_of_OI_M_Money_Long_Old\",\"Pct_of_OI_M_Money_Short_Old\",\"Pct_of_OI_M_Money_Spread_Old\",\"Pct_of_OI_Other_Rept_Long_Old\",\"Pct_of_OI_Other_Rept_Short_Old\",\"Pct_of_OI_Other_Rept_Spread_Old\",\"Pct_of_OI_Tot_Rept_Long_Old\",\"Pct_of_OI_Tot_Rept_Short_Old\",\"Pct_of_OI_NonRept_Long_Old\",\"Pct_of_OI_NonRept_Short_Old\",\"Pct_of_Open_Interest_Other\",\"Pct_of_OI_Prod_Merc_Long_Other\",\"Pct_of_OI_Prod_Merc_Short_Other\",\"Pct_of_OI_Swap_Long_Other\",\"Pct_of_OI_Swap_Short_Other\",\"Pct_of_OI_Swap_Spread_Other\",\"Pct_of_OI_M_Money_Long_Other\",\"Pct_of_OI_M_Money_Short_Other\",\"Pct_of_OI_M_Money_Spread_Other\",\"Pct_of_OI_Other_Rept_Long_Other\",\"Pct_of_OI_Other_Rept_Short_Other\",\"Pct_of_OI_Other_Rept_Spread_Other\",\"Pct_of_OI_Tot_Rept_Long_Other\",\"Pct_of_OI_Tot_Rept_Short_Other\",\"Pct_of_OI_NonRept_Long_Other\",\"Pct_of_OI_NonRept_Short_Other\",\"Traders_Tot_All\",\"Traders_Prod_Merc_Long_All\",\"Traders_Prod_Merc_Short_All\",\"Traders_Swap_Long_All\",\"Traders_Swap_Short_All\",\"Traders_Swap_Spread_All\",\"Traders_M_Money_Long_All\",\"Traders_M_Money_Short_All\",\"Traders_M_Money_Spread_All\",\"Traders_Other_Rept_Long_All\",\"Traders_Other_Rept_Short_All\",\"Traders_Other_Rept_Spread_All\",\"Traders_Tot_Rept_Long_All\",\"Traders_Tot_Rept_Short_All\",\"Traders_Tot_Old\",\"Traders_Prod_Merc_Long_Old\",\"Traders_Prod_Merc_Short_Old\",\"Traders_Swap_Long_Old\",\"Traders_Swap_Short_Old\",\"Traders_Swap_Spread_Old\",\"Traders_M_Money_Long_Old\",\"Traders_M_Money_Short_Old\",\"Traders_M_Money_Spread_Old\",\"Traders_Other_Rept_Long_Old\",\"Traders_Other_Rept_Short_Old\",\"Traders_Other_Rept_Spread_Old\",\"Traders_Tot_Rept_Long_Old\",\"Traders_Tot_Rept_Short_Old\",\"Traders_Tot_Other\",\"Traders_Prod_Merc_Long_Other\",\"Traders_Prod_Merc_Short_Other\",\"Traders_Swap_Long_Other\",\"Traders_Swap_Short_Other\",\"Traders_Swap_Spread_Other\",\"Traders_M_Money_Long_Other\",\"Traders_M_Money_Short_Other\",\"Traders_M_Money_Spread_Other\",\"Traders_Other_Rept_Long_Other\",\"Traders_Other_Rept_Short_Other\",\"Traders_Other_Rept_Spread_Other\",\"Traders_Tot_Rept_Long_Other\",\"Traders_Tot_Rept_Short_Other\",\"Conc_Gross_LE_4_TDR_Long_All\",\"Conc_Gross_LE_4_TDR_Short_All\",\"Conc_Gross_LE_8_TDR_Long_All\",\"Conc_Gross_LE_8_TDR_Short_All\",\"Conc_Net_LE_4_TDR_Long_All\",\"Conc_Net_LE_4_TDR_Short_All\",\"Conc_Net_LE_8_TDR_Long_All\",\"Conc_Net_LE_8_TDR_Short_All\",\"Conc_Gross_LE_4_TDR_Long_Old\",\"Conc_Gross_LE_4_TDR_Short_Old\",\"Conc_Gross_LE_8_TDR_Long_Old\",\"Conc_Gross_LE_8_TDR_Short_Old\",\"Conc_Net_LE_4_TDR_Long_Old\",\"Conc_Net_LE_4_TDR_Short_Old\",\"Conc_Net_LE_8_TDR_Long_Old\",\"Conc_Net_LE_8_TDR_Short_Old\",\"Conc_Gross_LE_4_TDR_Long_Other\",\"Conc_Gross_LE_4_TDR_Short_Other\",\"Conc_Gross_LE_8_TDR_Long_Other\",\"Conc_Gross_LE_8_TDR_Short_Other\",\"Conc_Net_LE_4_TDR_Long_Other\",\"Conc_Net_LE_4_TDR_Short_Other\",\"Conc_Net_LE_8_TDR_Long_Other\",\"Conc_Net_LE_8_TDR_Short_Other\",\"Contract_Units\",\"CFTC_Contract_Market_Code_Quotes\",\"CFTC_Market_Code_Quotes\",\"CFTC_Commodity_Code_Quotes\",\"CFTC_SubGroup_Code\",\"FutOnly_or_Combined\"\n"
     ]
    }
   ],
   "source": [
    "!head -n1 ../data/F_Disagg06_16.txt"
   ]
  },
  {
   "cell_type": "code",
   "execution_count": 7,
   "metadata": {},
   "outputs": [],
   "source": [
    "# low_memory=False suppresses a mixed-type warning that can arise w/ messy data.  we're not worried about performance right now, so not a big deal.\n",
    "df = pd.read_csv(\"../data/F_Disagg06_16.txt\", low_memory=False)"
   ]
  },
  {
   "cell_type": "markdown",
   "metadata": {},
   "source": [
    "## Structured EDA\n",
    "\n",
    "Brief overview of the organization which collected our dataset:\n",
    "\n",
    "> The Commodity Futures Trading Commission (Commission or CFTC) publishes the Commitments of Traders (COT) reports to help the public understand market dynamics. Specifically, the COT reports provide a breakdown of each Tuesday’s open interest for futures and options on futures markets in which 20 or more traders hold positions equal to or above the reporting levels established by the CFTC.\n",
    "\n",
    "Specific information on our subset:\n",
    "\n",
    "> The Disaggregated reports are broken down by agriculture, petroleum and products, natural gas and products, electricity and metals and other physical contracts. These reports have a futures only report and a combined futures and options report. The Disaggregated reports break down the reportable open interest positions into four classifications:\n",
    "> \n",
    "> 1. Producer/Merchant/Processor/User\n",
    "> 2. Swap Dealers\n",
    "> 3. Managed Money\n",
    "> 4. Other Reportables\n",
    "\n",
    "That the disaggregated reports \"are broken down ...\" implies that there is information in our dataset that clarifies what commodity a given contract is for.  Additionally, we see that there is additional breakdown of open interest -- there are 4 groups of traders which we have OI information for."
   ]
  },
  {
   "cell_type": "markdown",
   "metadata": {},
   "source": [
    "### What features are in your dataset?\n",
    "\n",
    "List of Columns:\n",
    "https://www.cftc.gov/MarketReports/CommitmentsofTraders/HistoricalViewable/CFTC_023168.html"
   ]
  },
  {
   "cell_type": "code",
   "execution_count": 8,
   "metadata": {},
   "outputs": [
    {
     "data": {
      "text/plain": [
       "Index(['Market_and_Exchange_Names', 'As_of_Date_In_Form_YYMMDD',\n",
       "       'Report_Date_as_YYYY-MM-DD', 'CFTC_Contract_Market_Code',\n",
       "       'CFTC_Market_Code', 'CFTC_Region_Code', 'CFTC_Commodity_Code',\n",
       "       'Open_Interest_All', 'Prod_Merc_Positions_Long_All',\n",
       "       'Prod_Merc_Positions_Short_All',\n",
       "       ...\n",
       "       'Conc_Net_LE_4_TDR_Long_Other', 'Conc_Net_LE_4_TDR_Short_Other',\n",
       "       'Conc_Net_LE_8_TDR_Long_Other', 'Conc_Net_LE_8_TDR_Short_Other',\n",
       "       'Contract_Units', 'CFTC_Contract_Market_Code_Quotes',\n",
       "       'CFTC_Market_Code_Quotes', 'CFTC_Commodity_Code_Quotes',\n",
       "       'CFTC_SubGroup_Code', 'FutOnly_or_Combined'],\n",
       "      dtype='object', length=191)"
      ]
     },
     "execution_count": 8,
     "metadata": {},
     "output_type": "execute_result"
    }
   ],
   "source": [
    "df.columns"
   ]
  },
  {
   "cell_type": "markdown",
   "metadata": {},
   "source": [
    "Note that the dataset is in a \"wide\" format, as there are related fields that have values in the column name, e.g. \"Conc...4\" vs \"Conc...8\".  More info on data organization:  \n",
    "\n",
    "* https://en.wikipedia.org/wiki/Wide_and_narrow_data\n",
    "* https://vita.had.co.nz/papers/tidy-data.pdf"
   ]
  },
  {
   "cell_type": "markdown",
   "metadata": {},
   "source": [
    "### What type is each feature?"
   ]
  },
  {
   "cell_type": "code",
   "execution_count": 27,
   "metadata": {},
   "outputs": [
    {
     "data": {
      "text/plain": [
       "float64    72\n",
       "object     64\n",
       "int64      55\n",
       "dtype: int64"
      ]
     },
     "execution_count": 27,
     "metadata": {},
     "output_type": "execute_result"
    }
   ],
   "source": [
    "df.dtypes.value_counts()"
   ]
  },
  {
   "cell_type": "markdown",
   "metadata": {},
   "source": [
    "#### int data"
   ]
  },
  {
   "cell_type": "markdown",
   "metadata": {},
   "source": [
    "There seems to be some structure in the column names.  \"Prod Merc\", \"Swap\", \"M_Money\", and \"Other\" are prefixes matching the breakdown of traders mentioned above.  \"All\", \"Old\", and \"Other\" are suffixes, however I'm not currently sure what they mean.  I suspect \"All\" refers to the current OI and \"Old\" refers to the previous (last weeks) OI.\n",
    "\n",
    "Additionally, we have some date and factor data that was classified as an integer datatype:\n",
    "* As_of_Date_In_Form_YYMMDD\n",
    "* CFTC_Region_Code\n",
    "* CFTC_Commodity_Code\n",
    "* CFTC_Commodity_Code_Quotes"
   ]
  },
  {
   "cell_type": "code",
   "execution_count": 178,
   "metadata": {},
   "outputs": [
    {
     "data": {
      "text/plain": [
       "Index(['As_of_Date_In_Form_YYMMDD', 'Report_Date_as_YYYY-MM-DD'], dtype='object')"
      ]
     },
     "execution_count": 178,
     "metadata": {},
     "output_type": "execute_result"
    }
   ],
   "source": [
    "df.columns[df.columns.str.contains(\"Date\")]"
   ]
  },
  {
   "cell_type": "code",
   "execution_count": 184,
   "metadata": {},
   "outputs": [],
   "source": [
    "dates = df[\"As_of_Date_In_Form_YYMMDD\"].astype(str).copy()\n",
    "idx = dates.str.len() == 5\n",
    "dates[idx] = \"0\" + dates[idx] \n",
    "dtdf = pd.to_datetime(dates, format=\"%y%m%d\")"
   ]
  },
  {
   "cell_type": "code",
   "execution_count": 185,
   "metadata": {},
   "outputs": [
    {
     "data": {
      "text/plain": [
       "<matplotlib.axes._subplots.AxesSubplot at 0x7f27eb3a3e80>"
      ]
     },
     "execution_count": 185,
     "metadata": {},
     "output_type": "execute_result"
    },
    {
     "data": {
      "image/png": "[encoded data removed]",
      "text/plain": [
       "<Figure size 1500x900 with 1 Axes>"
      ]
     },
     "metadata": {
      "needs_background": "light"
     },
     "output_type": "display_data"
    }
   ],
   "source": [
    "dtdf.dt.year.value_counts().sort_index().plot.bar()"
   ]
  },
  {
   "cell_type": "code",
   "execution_count": 56,
   "metadata": {},
   "outputs": [
    {
     "data": {
      "text/plain": [
       "Index(['As_of_Date_In_Form_YYMMDD', 'CFTC_Region_Code', 'CFTC_Commodity_Code',\n",
       "       'Open_Interest_All', 'Prod_Merc_Positions_Long_All',\n",
       "       'Prod_Merc_Positions_Short_All', 'Swap_Positions_Long_All',\n",
       "       'Swap__Positions_Short_All', 'Swap__Positions_Spread_All',\n",
       "       'M_Money_Positions_Long_All', 'M_Money_Positions_Short_All',\n",
       "       'M_Money_Positions_Spread_All', 'Other_Rept_Positions_Long_All',\n",
       "       'Other_Rept_Positions_Short_All', 'Other_Rept_Positions_Spread_All',\n",
       "       'Tot_Rept_Positions_Long_All', 'Tot_Rept_Positions_Short_All',\n",
       "       'NonRept_Positions_Long_All', 'NonRept_Positions_Short_All',\n",
       "       'Open_Interest_Old', 'Prod_Merc_Positions_Long_Old',\n",
       "       'Prod_Merc_Positions_Short_Old', 'Swap_Positions_Long_Old',\n",
       "       'Swap__Positions_Short_Old', 'Swap__Positions_Spread_Old',\n",
       "       'M_Money_Positions_Long_Old', 'M_Money_Positions_Short_Old',\n",
       "       'M_Money_Positions_Spread_Old', 'Other_Rept_Positions_Long_Old',\n",
       "       'Other_Rept_Positions_Short_Old', 'Other_Rept_Positions_Spread_Old',\n",
       "       'Tot_Rept_Positions_Long_Old', 'Tot_Rept_Positions_Short_Old',\n",
       "       'NonRept_Positions_Long_Old', 'NonRept_Positions_Short_Old',\n",
       "       'Open_Interest_Other', 'Prod_Merc_Positions_Long_Other',\n",
       "       'Prod_Merc_Positions_Short_Other', 'Swap_Positions_Long_Other',\n",
       "       'Swap__Positions_Short_Other', 'Swap__Positions_Spread_Other',\n",
       "       'M_Money_Positions_Long_Other', 'M_Money_Positions_Short_Other',\n",
       "       'M_Money_Positions_Spread_Other', 'Other_Rept_Positions_Long_Other',\n",
       "       'Other_Rept_Positions_Short_Other', 'Other_Rept_Positions_Spread_Other',\n",
       "       'Tot_Rept_Positions_Long_Other', 'Tot_Rept_Positions_Short_Other',\n",
       "       'NonRept_Positions_Long_Other', 'NonRept_Positions_Short_Other',\n",
       "       'Traders_Tot_All', 'Traders_Tot_Rept_Long_All',\n",
       "       'Traders_Tot_Rept_Short_All', 'CFTC_Commodity_Code_Quotes'],\n",
       "      dtype='object')"
      ]
     },
     "execution_count": 56,
     "metadata": {},
     "output_type": "execute_result"
    }
   ],
   "source": [
    "df.dtypes[df.dtypes == \"int64\"].index"
   ]
  },
  {
   "cell_type": "markdown",
   "metadata": {},
   "source": [
    "#### float data"
   ]
  },
  {
   "cell_type": "code",
   "execution_count": 57,
   "metadata": {},
   "outputs": [
    {
     "data": {
      "text/plain": [
       "Index(['Pct_of_Open_Interest_All', 'Pct_of_OI_Prod_Merc_Long_All',\n",
       "       'Pct_of_OI_Prod_Merc_Short_All', 'Pct_of_OI_Swap_Long_All',\n",
       "       'Pct_of_OI_Swap_Short_All', 'Pct_of_OI_Swap_Spread_All',\n",
       "       'Pct_of_OI_M_Money_Long_All', 'Pct_of_OI_M_Money_Short_All',\n",
       "       'Pct_of_OI_M_Money_Spread_All', 'Pct_of_OI_Other_Rept_Long_All',\n",
       "       'Pct_of_OI_Other_Rept_Short_All', 'Pct_of_OI_Other_Rept_Spread_All',\n",
       "       'Pct_of_OI_Tot_Rept_Long_All', 'Pct_of_OI_Tot_Rept_Short_All',\n",
       "       'Pct_of_OI_NonRept_Long_All', 'Pct_of_OI_NonRept_Short_All',\n",
       "       'Pct_of_Open_Interest_Old', 'Pct_of_OI_Prod_Merc_Long_Old',\n",
       "       'Pct_of_OI_Prod_Merc_Short_Old', 'Pct_of_OI_Swap_Long_Old',\n",
       "       'Pct_of_OI_Swap_Short_Old', 'Pct_of_OI_Swap_Spread_Old',\n",
       "       'Pct_of_OI_M_Money_Long_Old', 'Pct_of_OI_M_Money_Short_Old',\n",
       "       'Pct_of_OI_M_Money_Spread_Old', 'Pct_of_OI_Other_Rept_Long_Old',\n",
       "       'Pct_of_OI_Other_Rept_Short_Old', 'Pct_of_OI_Other_Rept_Spread_Old',\n",
       "       'Pct_of_OI_Tot_Rept_Long_Old', 'Pct_of_OI_Tot_Rept_Short_Old',\n",
       "       'Pct_of_OI_NonRept_Long_Old', 'Pct_of_OI_NonRept_Short_Old',\n",
       "       'Pct_of_Open_Interest_Other', 'Pct_of_OI_Prod_Merc_Long_Other',\n",
       "       'Pct_of_OI_Prod_Merc_Short_Other', 'Pct_of_OI_Swap_Long_Other',\n",
       "       'Pct_of_OI_Swap_Short_Other', 'Pct_of_OI_Swap_Spread_Other',\n",
       "       'Pct_of_OI_M_Money_Long_Other', 'Pct_of_OI_M_Money_Short_Other',\n",
       "       'Pct_of_OI_M_Money_Spread_Other', 'Pct_of_OI_Other_Rept_Long_Other',\n",
       "       'Pct_of_OI_Other_Rept_Short_Other', 'Pct_of_OI_Other_Rept_Spread_Other',\n",
       "       'Pct_of_OI_Tot_Rept_Long_Other', 'Pct_of_OI_Tot_Rept_Short_Other',\n",
       "       'Pct_of_OI_NonRept_Long_Other', 'Pct_of_OI_NonRept_Short_Other',\n",
       "       'Conc_Gross_LE_4_TDR_Long_All', 'Conc_Gross_LE_4_TDR_Short_All',\n",
       "       'Conc_Gross_LE_8_TDR_Long_All', 'Conc_Gross_LE_8_TDR_Short_All',\n",
       "       'Conc_Net_LE_4_TDR_Long_All', 'Conc_Net_LE_4_TDR_Short_All',\n",
       "       'Conc_Net_LE_8_TDR_Long_All', 'Conc_Net_LE_8_TDR_Short_All',\n",
       "       'Conc_Gross_LE_4_TDR_Long_Old', 'Conc_Gross_LE_4_TDR_Short_Old',\n",
       "       'Conc_Gross_LE_8_TDR_Long_Old', 'Conc_Gross_LE_8_TDR_Short_Old',\n",
       "       'Conc_Net_LE_4_TDR_Long_Old', 'Conc_Net_LE_4_TDR_Short_Old',\n",
       "       'Conc_Net_LE_8_TDR_Long_Old', 'Conc_Net_LE_8_TDR_Short_Old',\n",
       "       'Conc_Gross_LE_4_TDR_Long_Other', 'Conc_Gross_LE_4_TDR_Short_Other',\n",
       "       'Conc_Gross_LE_8_TDR_Long_Other', 'Conc_Gross_LE_8_TDR_Short_Other',\n",
       "       'Conc_Net_LE_4_TDR_Long_Other', 'Conc_Net_LE_4_TDR_Short_Other',\n",
       "       'Conc_Net_LE_8_TDR_Long_Other', 'Conc_Net_LE_8_TDR_Short_Other'],\n",
       "      dtype='object')"
      ]
     },
     "execution_count": 57,
     "metadata": {},
     "output_type": "execute_result"
    }
   ],
   "source": [
    "df.dtypes[df.dtypes == \"float64\"].index"
   ]
  },
  {
   "cell_type": "markdown",
   "metadata": {},
   "source": [
    "Most of the floating point values represent percentages of the OI counts above.  For example, \"Pct_of_Open_Interest_All\" is simply `Open_Interest_All / Open_Interest_All = 100%`:"
   ]
  },
  {
   "cell_type": "code",
   "execution_count": 35,
   "metadata": {},
   "outputs": [
    {
     "data": {
      "text/plain": [
       "100.0    70199\n",
       "Name: Pct_of_Open_Interest_All, dtype: int64"
      ]
     },
     "execution_count": 35,
     "metadata": {},
     "output_type": "execute_result"
    }
   ],
   "source": [
    "df['Pct_of_Open_Interest_All'].value_counts()"
   ]
  },
  {
   "cell_type": "markdown",
   "metadata": {},
   "source": [
    "The other values represent concentration of the n largest traders among all contracts: \n",
    "\n",
    "> The long report, in addition to the information in the short report, groups the data by crop year, where appropriate, and shows the concentration of positions held by the largest four and eight traders."
   ]
  },
  {
   "cell_type": "code",
   "execution_count": 148,
   "metadata": {},
   "outputs": [
    {
     "data": {
      "text/plain": [
       "Index(['Market_and_Exchange_Names', 'Report_Date_as_YYYY-MM-DD',\n",
       "       'CFTC_Contract_Market_Code', 'CFTC_Market_Code',\n",
       "       'Change_in_Open_Interest_All', 'Change_in_Prod_Merc_Long_All',\n",
       "       'Change_in_Prod_Merc_Short_All', 'Change_in_Swap_Long_All',\n",
       "       'Change_in_Swap_Short_All', 'Change_in_Swap_Spread_All',\n",
       "       'Change_in_M_Money_Long_All', 'Change_in_M_Money_Short_All',\n",
       "       'Change_in_M_Money_Spread_All', 'Change_in_Other_Rept_Long_All',\n",
       "       'Change_in_Other_Rept_Short_All', 'Change_in_Other_Rept_Spread_All',\n",
       "       'Change_in_Tot_Rept_Long_All', 'Change_in_Tot_Rept_Short_All',\n",
       "       'Change_in_NonRept_Long_All', 'Change_in_NonRept_Short_All',\n",
       "       'Traders_Prod_Merc_Long_All', 'Traders_Prod_Merc_Short_All',\n",
       "       'Traders_Swap_Long_All', 'Traders_Swap_Short_All',\n",
       "       'Traders_Swap_Spread_All', 'Traders_M_Money_Long_All',\n",
       "       'Traders_M_Money_Short_All', 'Traders_M_Money_Spread_All',\n",
       "       'Traders_Other_Rept_Long_All', 'Traders_Other_Rept_Short_All',\n",
       "       'Traders_Other_Rept_Spread_All', 'Traders_Tot_Old',\n",
       "       'Traders_Prod_Merc_Long_Old', 'Traders_Prod_Merc_Short_Old',\n",
       "       'Traders_Swap_Long_Old', 'Traders_Swap_Short_Old',\n",
       "       'Traders_Swap_Spread_Old', 'Traders_M_Money_Long_Old',\n",
       "       'Traders_M_Money_Short_Old', 'Traders_M_Money_Spread_Old',\n",
       "       'Traders_Other_Rept_Long_Old', 'Traders_Other_Rept_Short_Old',\n",
       "       'Traders_Other_Rept_Spread_Old', 'Traders_Tot_Rept_Long_Old',\n",
       "       'Traders_Tot_Rept_Short_Old', 'Traders_Tot_Other',\n",
       "       'Traders_Prod_Merc_Long_Other', 'Traders_Prod_Merc_Short_Other',\n",
       "       'Traders_Swap_Long_Other', 'Traders_Swap_Short_Other',\n",
       "       'Traders_Swap_Spread_Other', 'Traders_M_Money_Long_Other',\n",
       "       'Traders_M_Money_Short_Other', 'Traders_M_Money_Spread_Other',\n",
       "       'Traders_Other_Rept_Long_Other', 'Traders_Other_Rept_Short_Other',\n",
       "       'Traders_Other_Rept_Spread_Other', 'Traders_Tot_Rept_Long_Other',\n",
       "       'Traders_Tot_Rept_Short_Other', 'Contract_Units',\n",
       "       'CFTC_Contract_Market_Code_Quotes', 'CFTC_Market_Code_Quotes',\n",
       "       'CFTC_SubGroup_Code', 'FutOnly_or_Combined'],\n",
       "      dtype='object')"
      ]
     },
     "execution_count": 148,
     "metadata": {},
     "output_type": "execute_result"
    }
   ],
   "source": [
    "strings"
   ]
  },
  {
   "cell_type": "code",
   "execution_count": 55,
   "metadata": {},
   "outputs": [
    {
     "data": {
      "text/plain": [
       "Index(['Conc_Gross_LE_4_TDR_Long_All', 'Conc_Gross_LE_4_TDR_Short_All',\n",
       "       'Conc_Gross_LE_8_TDR_Long_All', 'Conc_Gross_LE_8_TDR_Short_All',\n",
       "       'Conc_Net_LE_4_TDR_Long_All', 'Conc_Net_LE_4_TDR_Short_All',\n",
       "       'Conc_Net_LE_8_TDR_Long_All', 'Conc_Net_LE_8_TDR_Short_All',\n",
       "       'Conc_Gross_LE_4_TDR_Long_Old', 'Conc_Gross_LE_4_TDR_Short_Old',\n",
       "       'Conc_Gross_LE_8_TDR_Long_Old', 'Conc_Gross_LE_8_TDR_Short_Old',\n",
       "       'Conc_Net_LE_4_TDR_Long_Old', 'Conc_Net_LE_4_TDR_Short_Old',\n",
       "       'Conc_Net_LE_8_TDR_Long_Old', 'Conc_Net_LE_8_TDR_Short_Old',\n",
       "       'Conc_Gross_LE_4_TDR_Long_Other', 'Conc_Gross_LE_4_TDR_Short_Other',\n",
       "       'Conc_Gross_LE_8_TDR_Long_Other', 'Conc_Gross_LE_8_TDR_Short_Other',\n",
       "       'Conc_Net_LE_4_TDR_Long_Other', 'Conc_Net_LE_4_TDR_Short_Other',\n",
       "       'Conc_Net_LE_8_TDR_Long_Other', 'Conc_Net_LE_8_TDR_Short_Other'],\n",
       "      dtype='object')"
      ]
     },
     "execution_count": 55,
     "metadata": {},
     "output_type": "execute_result"
    }
   ],
   "source": [
    "floats = df.dtypes[df.dtypes == \"float64\"].index\n",
    "floats[floats.str.contains(\"Conc\")]"
   ]
  },
  {
   "cell_type": "markdown",
   "metadata": {},
   "source": [
    "#### string data\n",
    "\n",
    "Much of the data that pandas automatically sets to \"string dtype\" is actually numerical data with missing values.  Note that to indicate missing values in this dataset, they use a \".\" (period) rather than leaving it blank:\n",
    "\n",
    "> In order to preserve the confidentiality of traders, for any given commodity\n",
    "where a specific category has fewer than four active traders, the size of the relevant positions will be\n",
    "provided but the trader count will be suppressed (specifically, a “·” will appear for trader counts of\n",
    "fewer than four traders).\n",
    "\n",
    "Most of the columns in which we are missing data represent these trader counts, however we do have a fair amount of missing data in these \"Change\" columns.  These \"Change\" columns specify the change in OI w.r.t. the previous report (last week).  It's possible the nan values in these columns are after a holiday week or at the beginning of the year."
   ]
  },
  {
   "cell_type": "code",
   "execution_count": 85,
   "metadata": {},
   "outputs": [
    {
     "data": {
      "text/plain": [
       "(1369, 1369)"
      ]
     },
     "execution_count": 85,
     "metadata": {},
     "output_type": "execute_result"
    }
   ],
   "source": [
    "chg = df[\"Change_in_Open_Interest_All\"].copy()\n",
    "numMissing = pd.to_numeric(chg, errors=\"coerce\").isna().sum()\n",
    "numPeriod = chg[chg == \".\"].count()\n",
    "\n",
    "numMissing, numPeriod"
   ]
  },
  {
   "cell_type": "code",
   "execution_count": 96,
   "metadata": {},
   "outputs": [
    {
     "data": {
      "text/plain": [
       "05-07    71\n",
       "06-13    61\n",
       "01-27    17\n",
       "06-28    15\n",
       "02-23    13\n",
       "         ..\n",
       "08-21     1\n",
       "11-01     1\n",
       "11-21     1\n",
       "08-08     1\n",
       "12-14     1\n",
       "Name: Report_Date_as_YYYY-MM-DD, Length: 310, dtype: int64"
      ]
     },
     "execution_count": 96,
     "metadata": {},
     "output_type": "execute_result"
    }
   ],
   "source": [
    "# is there some pattern in the dates that we are missing?\n",
    "chg = df[\"Change_in_Open_Interest_All\"].copy()\n",
    "df[pd.to_numeric(chg, errors=\"coerce\").isna()][\"Report_Date_as_YYYY-MM-DD\"].str.split(\"-\", n=1).str[1].value_counts()"
   ]
  },
  {
   "cell_type": "code",
   "execution_count": 103,
   "metadata": {},
   "outputs": [
    {
     "data": {
      "text/plain": [
       "(0, 0)"
      ]
     },
     "execution_count": 103,
     "metadata": {},
     "output_type": "execute_result"
    }
   ],
   "source": [
    "# note that we're missing all of these changes on the same dates.\n",
    "a = pd.to_numeric(df[\"Change_in_M_Money_Long_All\"], errors=\"coerce\").isna()\n",
    "b = pd.to_numeric(df[\"Change_in_M_Money_Short_All\"], errors=\"coerce\").isna()\n",
    "c = pd.to_numeric(df[\"Change_in_Other_Rept_Long_All\"], errors=\"coerce\").isna()\n",
    "\n",
    "(b != c).sum(), (a != b).sum()"
   ]
  },
  {
   "cell_type": "code",
   "execution_count": 68,
   "metadata": {},
   "outputs": [
    {
     "data": {
      "text/plain": [
       "27212"
      ]
     },
     "execution_count": 68,
     "metadata": {},
     "output_type": "execute_result"
    }
   ],
   "source": [
    "chg = df[\"Traders_Swap_Spread_All\"]\n",
    "chg[chg == \".\"].count()"
   ]
  },
  {
   "cell_type": "code",
   "execution_count": 111,
   "metadata": {},
   "outputs": [
    {
     "data": {
      "text/plain": [
       "Index(['Market_and_Exchange_Names', 'Report_Date_as_YYYY-MM-DD',\n",
       "       'CFTC_Contract_Market_Code', 'CFTC_Market_Code', 'Contract_Units',\n",
       "       'CFTC_Contract_Market_Code_Quotes', 'CFTC_Market_Code_Quotes',\n",
       "       'CFTC_SubGroup_Code', 'FutOnly_or_Combined'],\n",
       "      dtype='object')"
      ]
     },
     "execution_count": 111,
     "metadata": {},
     "output_type": "execute_result"
    }
   ],
   "source": [
    "# actual string / factor data\n",
    "strings = df.dtypes[df.dtypes == \"object\"].index\n",
    "strings[~strings.str.contains(\"Change\") & ~strings.str.contains(\"Traders\")]"
   ]
  },
  {
   "cell_type": "markdown",
   "metadata": {},
   "source": [
    "### Distribution of each feature?"
   ]
  },
  {
   "cell_type": "markdown",
   "metadata": {},
   "source": [
    "#### string / factor data"
   ]
  },
  {
   "cell_type": "code",
   "execution_count": 127,
   "metadata": {},
   "outputs": [
    {
     "data": {
      "text/plain": [
       "OATS - CHICAGO BOARD OF TRADE                                          551\n",
       "PALLADIUM - NEW YORK MERCANTILE EXCHANGE                               551\n",
       "NATURAL GAS - NEW YORK MERCANTILE EXCHANGE                             551\n",
       "CORN - CHICAGO BOARD OF TRADE                                          551\n",
       "PLATINUM - NEW YORK MERCANTILE EXCHANGE                                551\n",
       "                                                                      ... \n",
       "WAHA INDEX SWAP - NEW YORK MERCANTILE EXCHANGE                           1\n",
       "ISO NEW ENGLAND CT DA LMP OFF-PEAK MONTHLY - ICE FUTURES ENERGY DIV      1\n",
       "MINI CORN - CHICAGO BOARD OF TRADE                                       1\n",
       "MT BELV NORM BUT LDH OPIS SWP - NEW YORK MERCANTILE EXCHANGE             1\n",
       "NY FO 1% v EUR 1% FO FOB NWE - NEW YORK MERCANTILE EXCHANGE              1\n",
       "Name: Market_and_Exchange_Names, Length: 523, dtype: int64"
      ]
     },
     "execution_count": 127,
     "metadata": {},
     "output_type": "execute_result"
    }
   ],
   "source": [
    "df[\"Market_and_Exchange_Names\"].value_counts()"
   ]
  },
  {
   "cell_type": "code",
   "execution_count": 125,
   "metadata": {},
   "outputs": [
    {
     "data": {
      "text/plain": [
       "<matplotlib.axes._subplots.AxesSubplot at 0x7f27f858add8>"
      ]
     },
     "execution_count": 125,
     "metadata": {},
     "output_type": "execute_result"
    },
    {
     "data": {
      "image/png": "[encoded data removed]",
      "text/plain": [
       "<Figure size 1500x900 with 1 Axes>"
      ]
     },
     "metadata": {
      "needs_background": "light"
     },
     "output_type": "display_data"
    }
   ],
   "source": [
    "df[\"Market_and_Exchange_Names\"].str.split(\"-\").str[1].value_counts(normalize=True).sort_values().tail(10).plot.barh()"
   ]
  },
  {
   "cell_type": "code",
   "execution_count": 126,
   "metadata": {},
   "outputs": [
    {
     "data": {
      "text/plain": [
       "<matplotlib.axes._subplots.AxesSubplot at 0x7f27f85f1240>"
      ]
     },
     "execution_count": 126,
     "metadata": {},
     "output_type": "execute_result"
    },
    {
     "data": {
      "image/png": "[encoded data removed]",
      "text/plain": [
       "<Figure size 1500x900 with 1 Axes>"
      ]
     },
     "metadata": {
      "needs_background": "light"
     },
     "output_type": "display_data"
    }
   ],
   "source": [
    "# note that this is counting markets based on the text from the exchange, which may not be universal\n",
    "df[\"Market_and_Exchange_Names\"].str.split(\"-\").str[0].value_counts(normalize=True).sort_values().tail(10).plot.barh()"
   ]
  },
  {
   "cell_type": "code",
   "execution_count": 187,
   "metadata": {},
   "outputs": [],
   "source": [
    "dates = df[\"Report_Date_as_YYYY-MM-DD\"].str.split(\"-\", expand=True).rename({\n",
    "    0: \"year\",\n",
    "    1: \"month\",\n",
    "    2: \"day\"\n",
    "}, axis=1)"
   ]
  },
  {
   "cell_type": "markdown",
   "metadata": {},
   "source": [
    "It seems that there was a large increase in the quantity of futures markets in 2013 / 2014.  Note that the values we're counting here represent the count of rows in our dataset.  It's possible there was a policy change put into place in 2013 that made running a futures market more attractive."
   ]
  },
  {
   "cell_type": "code",
   "execution_count": 146,
   "metadata": {},
   "outputs": [
    {
     "data": {
      "text/plain": [
       "<matplotlib.axes._subplots.AxesSubplot at 0x7f27eeea1390>"
      ]
     },
     "execution_count": 146,
     "metadata": {},
     "output_type": "execute_result"
    },
    {
     "data": {
      "image/png": "[encoded data removed]",
      "text/plain": [
       "<Figure size 1500x900 with 1 Axes>"
      ]
     },
     "metadata": {
      "needs_background": "light"
     },
     "output_type": "display_data"
    }
   ],
   "source": [
    "dates.year.value_counts().sort_index().plot.bar()"
   ]
  },
  {
   "cell_type": "code",
   "execution_count": 145,
   "metadata": {},
   "outputs": [
    {
     "data": {
      "text/plain": [
       "<matplotlib.axes._subplots.AxesSubplot at 0x7f27efe96d30>"
      ]
     },
     "execution_count": 145,
     "metadata": {},
     "output_type": "execute_result"
    },
    {
     "data": {
      "image/png": "[encoded data removed]",
      "text/plain": [
       "<Figure size 1500x900 with 1 Axes>"
      ]
     },
     "metadata": {
      "needs_background": "light"
     },
     "output_type": "display_data"
    }
   ],
   "source": [
    "dates.month.value_counts().sort_index().plot.bar()"
   ]
  },
  {
   "cell_type": "markdown",
   "metadata": {},
   "source": [
    "Note that many futures expire on the start of the month, so we do expect to see somewhat of a dip in open interest towards the end of the month, as most traders do not want to actually fulfill a future."
   ]
  },
  {
   "cell_type": "code",
   "execution_count": 144,
   "metadata": {},
   "outputs": [
    {
     "data": {
      "text/plain": [
       "<matplotlib.axes._subplots.AxesSubplot at 0x7f27ef6f2828>"
      ]
     },
     "execution_count": 144,
     "metadata": {},
     "output_type": "execute_result"
    },
    {
     "data": {
      "image/png": "[encoded data removed]",
      "text/plain": [
       "<Figure size 1500x900 with 1 Axes>"
      ]
     },
     "metadata": {
      "needs_background": "light"
     },
     "output_type": "display_data"
    }
   ],
   "source": [
    "dates.day.value_counts().sort_index().plot.bar()"
   ]
  },
  {
   "cell_type": "code",
   "execution_count": null,
   "metadata": {},
   "outputs": [],
   "source": []
  },
  {
   "cell_type": "code",
   "execution_count": 24,
   "metadata": {},
   "outputs": [
    {
     "data": {
      "text/plain": [
       "(CONTRACTS OF 1,000 BARRELS)        7743\n",
       "1 MW                                4380\n",
       "(2,500 MMBTU'S)                     4103\n",
       "(Contracts of 2,500  MMBTU'S)       3958\n",
       "2500 mmbtu                          3821\n",
       "(CONTRACTS OF 5,000 BUSHELS)        3306\n",
       "(CONTRACTS OF 42,000 GALLONS)       2990\n",
       "(CONTRACTS OF 1,000 METRIC TONS)    2781\n",
       "Megawatt Hours (MWh)                2532\n",
       "(Contracts of 80 Megawatt Hours)    2214\n",
       "Name: Contract_Units, dtype: int64"
      ]
     },
     "execution_count": 24,
     "metadata": {},
     "output_type": "execute_result"
    }
   ],
   "source": [
    "df[\"Contract_Units\"].value_counts(normalize).head(10)"
   ]
  },
  {
   "cell_type": "code",
   "execution_count": 20,
   "metadata": {},
   "outputs": [
    {
     "data": {
      "text/plain": [
       "0        446777\n",
       "1        447386\n",
       "2        443306\n",
       "3        436214\n",
       "4        444341\n",
       "          ...  \n",
       "70194     16978\n",
       "70195     16460\n",
       "70196     17842\n",
       "70197     16797\n",
       "70198     16426\n",
       "Name: Open_Interest_All, Length: 70199, dtype: int64"
      ]
     },
     "execution_count": 20,
     "metadata": {},
     "output_type": "execute_result"
    }
   ],
   "source": [
    "df[\"Open_Interest_All\"]"
   ]
  },
  {
   "cell_type": "code",
   "execution_count": 26,
   "metadata": {},
   "outputs": [
    {
     "data": {
      "text/plain": [
       "061641    551\n",
       "001626    551\n",
       "03565C    551\n",
       "088691    551\n",
       "03565B    551\n",
       "         ... \n",
       "0643AT      1\n",
       "023A12      1\n",
       "002603      1\n",
       "066A19      1\n",
       "021A29      1\n",
       "Name: CFTC_Contract_Market_Code_Quotes, Length: 402, dtype: int64"
      ]
     },
     "execution_count": 26,
     "metadata": {},
     "output_type": "execute_result"
    }
   ],
   "source": [
    "df[\"CFTC_Contract_Market_Code_Quotes\"].value_counts()"
   ]
  },
  {
   "cell_type": "code",
   "execution_count": 18,
   "metadata": {},
   "outputs": [
    {
     "data": {
      "text/plain": [
       "NYME    33144\n",
       "IFED    18290\n",
       "CBT      3946\n",
       "CME      3052\n",
       "NODX     2531\n",
       "ICUS     2319\n",
       "CMX      1410\n",
       "ICE      1382\n",
       "CBT       761\n",
       "CME       728\n",
       "MGE       470\n",
       "CCX       457\n",
       "NYBT      436\n",
       "KCBT      392\n",
       "ICEU      388\n",
       "CMX       303\n",
       "MGE        81\n",
       "PBOT       77\n",
       "GE         19\n",
       "DUMX       13\n",
       "Name: CFTC_Market_Code_Quotes, dtype: int64"
      ]
     },
     "execution_count": 18,
     "metadata": {},
     "output_type": "execute_result"
    }
   ],
   "source": [
    "df[\"CFTC_Market_Code_Quotes\"].value_counts()"
   ]
  },
  {
   "cell_type": "code",
   "execution_count": 16,
   "metadata": {},
   "outputs": [
    {
     "data": {
      "text/plain": [
       "64     21491\n",
       "23     14328\n",
       "21      4281\n",
       "67      3190\n",
       "66      1807\n",
       "1       1653\n",
       "22      1424\n",
       "111     1393\n",
       "6       1245\n",
       "864      937\n",
       "25       894\n",
       "865      873\n",
       "5        870\n",
       "52       834\n",
       "866      629\n",
       "24       607\n",
       "2        552\n",
       "76       551\n",
       "80       551\n",
       "73       551\n",
       "83       551\n",
       "84       551\n",
       "7        551\n",
       "85       551\n",
       "4        551\n",
       "75       551\n",
       "88       551\n",
       "40       551\n",
       "61       551\n",
       "33       551\n",
       "58       551\n",
       "57       551\n",
       "54       551\n",
       "39       551\n",
       "26       551\n",
       "32       550\n",
       "863      456\n",
       "262      435\n",
       "50       368\n",
       "63       320\n",
       "967      296\n",
       "867      239\n",
       "192      184\n",
       "868      158\n",
       "195      139\n",
       "191       60\n",
       "56        44\n",
       "869       14\n",
       "160       10\n",
       "Name: CFTC_Commodity_Code_Quotes, dtype: int64"
      ]
     },
     "execution_count": 16,
     "metadata": {},
     "output_type": "execute_result"
    }
   ],
   "source": [
    "df[\"CFTC_Commodity_Code_Quotes\"].value_counts()"
   ]
  },
  {
   "cell_type": "code",
   "execution_count": 14,
   "metadata": {},
   "outputs": [
    {
     "data": {
      "text/plain": [
       "N16    22098\n",
       "N13    15957\n",
       "N10    15947\n",
       "A10     3307\n",
       "N20     2382\n",
       "A50     2204\n",
       "A30     1972\n",
       "A20     1697\n",
       "A25     1522\n",
       "N60     1245\n",
       "N25      756\n",
       "A40      551\n",
       "N30      551\n",
       "N70       10\n",
       "Name: CFTC_SubGroup_Code, dtype: int64"
      ]
     },
     "execution_count": 14,
     "metadata": {},
     "output_type": "execute_result"
    }
   ],
   "source": [
    "df[\"CFTC_SubGroup_Code\"].value_counts()"
   ]
  },
  {
   "cell_type": "code",
   "execution_count": null,
   "metadata": {},
   "outputs": [],
   "source": []
  },
  {
   "cell_type": "markdown",
   "metadata": {},
   "source": [
    "### What do the numeric features represent? Counts? Measurements?"
   ]
  },
  {
   "cell_type": "code",
   "execution_count": null,
   "metadata": {},
   "outputs": [],
   "source": []
  },
  {
   "cell_type": "markdown",
   "metadata": {},
   "source": [
    "### What are the pairwise relationships between numeric features?"
   ]
  },
  {
   "cell_type": "code",
   "execution_count": null,
   "metadata": {},
   "outputs": [],
   "source": []
  },
  {
   "cell_type": "markdown",
   "metadata": {},
   "source": [
    "## Brainstorming\n",
    "\n",
    "Let's take a step back and connect your dataset to its real-world context.  \n",
    "\n",
    "Consider what these features and values actually represent.  Is there anything unexpected about the features?  What biases or thoughts did you have about this topic before exploring the data?  List off some \"facts\" that you think are true about your topic.  Our goal in EDA is to reconcile your perspective of the data / topic with the *truth* of the dataset.  What motivated you to choose this dataset?  What insights or questions are you investigating with this dataset?  Now that you've explored each of the features, which might be useful to you in your investigation?"
   ]
  },
  {
   "cell_type": "markdown",
   "metadata": {},
   "source": []
  },
  {
   "cell_type": "markdown",
   "metadata": {},
   "source": [
    "## Open-Ended EDA\n",
    "\n",
    "EDA is an iterative process.  It begins with answering initial questions which lead to more questions.  Using some of the brainstorming above, come up with at least one concrete investigation into your dataset.  This might be inspecting a specific irregularity, questioning a personal bias, or identifying a specific relationship between two features.  \n",
    "\n",
    "To do this, you'll likely need to select a subset of your dataset, transform it into a simpler format, and finally visualize or summarize it.  Visualizations are **highly** encouraged at this point!  It's much easier to understand relationships visually."
   ]
  },
  {
   "cell_type": "code",
   "execution_count": null,
   "metadata": {},
   "outputs": [],
   "source": []
  }
 ],
 "metadata": {
  "kernelspec": {
   "display_name": "Python 3",
   "language": "python",
   "name": "python3"
  },
  "language_info": {
   "codemirror_mode": {
    "name": "ipython",
    "version": 3
   },
   "file_extension": ".py",
   "mimetype": "text/x-python",
   "name": "python",
   "nbconvert_exporter": "python",
   "pygments_lexer": "ipython3",
   "version": "3.6.8"
  }
 },
 "nbformat": 4,
 "nbformat_minor": 4
}
