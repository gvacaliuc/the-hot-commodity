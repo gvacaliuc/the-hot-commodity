{
 "cells": [
  {
   "cell_type": "markdown",
   "metadata": {},
   "source": [
    "# EDA Exercise\n",
    "\n",
    "To see a completed version of this exercise, refer to [`examples/eda-exercise`](https://datasci.rice.edu/deep/curriculum/examples/eda-exercise/)."
   ]
  },
  {
   "cell_type": "markdown",
   "metadata": {},
   "source": [
    "## Prerequisites\n",
    "\n",
    "You need to install Python! The most convenient distribution for us to use is the Anaconda Distribution, which you can install from here: https://docs.anaconda.com/anaconda/install/.\n",
    "\n",
    "After installation, ensure that you can follow these instructions to open Jupyter:\n",
    "https://jupyter-notebook-beginner-guide.readthedocs.io/en/latest/execute.html\n",
    "\n",
    "Once you've launched Jupyter, you should be able to double-click on a `.ipynb` file to open a new kernel.\n",
    "\n",
    "!!! warning \"Working Directory\"\n",
    "\n",
    "    You'll want to be careful about where you launch Jupyter and download data to.\n",
    "    It's best practice to create a folder for your deep project to organize data and \n",
    "    launch Jupyter from there.  If jupyter is started from a different directory it might\n",
    "    be hard to find your data / notebooks!"
   ]
  },
  {
   "cell_type": "code",
   "execution_count": 1,
   "metadata": {},
   "outputs": [],
   "source": [
    "# it's best practice to have your imports up top so others can immediately know what to install\n",
    "# if you import more modules, add them here\n",
    "import numpy as np\n",
    "import pandas as pd\n",
    "import matplotlib.pyplot as plt\n",
    "\n",
    "%matplotlib inline"
   ]
  },
  {
   "cell_type": "code",
   "execution_count": 2,
   "metadata": {},
   "outputs": [],
   "source": [
    "plt.rcParams[\"figure.figsize\"] = 10, 6\n",
    "plt.rcParams[\"figure.dpi\"] = 150"
   ]
  },
  {
   "cell_type": "code",
   "execution_count": 3,
   "metadata": {},
   "outputs": [],
   "source": [
    "plt.rcParams[\"figure.figsize\"] = 10, 6\n",
    "plt.rcParams[\"figure.dpi\"] = 150"
   ]
  },
  {
   "cell_type": "markdown",
   "metadata": {},
   "source": [
    "## Acquiring Data\n",
    "\n",
    "By now you've selected a dataset for this semester.  See below for examples of reading tabular data into Pandas:"
   ]
  },
  {
   "cell_type": "code",
   "execution_count": 4,
   "metadata": {},
   "outputs": [],
   "source": [
    "# reading from a CSV: https://pandas.pydata.org/pandas-docs/stable/reference/api/pandas.read_csv.html\n",
    "# df = pd.read_csv(\"data/foo.csv\")\n",
    "\n",
    "# reading from a CSV without column names\n",
    "# df = pd.read_csv(\"data/foo.csv\", columns=[\"date\", \"company\", \"valuation\"])"
   ]
  },
  {
   "cell_type": "markdown",
   "metadata": {},
   "source": [
    "# WARNING\n",
    "\n",
    "Be sure that you've installed all the dependencies for this project! From your terminal run:\n",
    "\n",
    "pip:\n",
    "```shell\n",
    "$ # make a virtual environment, e.g. mkvirtualenv deep\n",
    "$ # activate your virtual environment, e.g. workon deep\n",
    "$ pip install -r requirements.txt\n",
    "```\n",
    "\n",
    "conda:\n",
    "```shell\n",
    "$ conda env create --name deep --file requirements.txt\n",
    "$ conda activate deep\n",
    "```"
   ]
  },
  {
   "cell_type": "code",
   "execution_count": 20,
   "metadata": {},
   "outputs": [],
   "source": [
    "# https://www.cftc.gov/MarketReports/CommitmentsofTraders/HistoricalCompressed/index.htm\n",
    "import requests, zipfile, io\n",
    "\n",
    "url = \"https://www.cftc.gov/files/dea/history/fut_disagg_txt_hist_2006_2016.zip\"\n",
    "\n",
    "r = requests.get(url)\n",
    "z = zipfile.ZipFile(io.BytesIO(r.content))\n",
    "z.extractall(\"../data\")"
   ]
  },
  {
   "cell_type": "code",
   "execution_count": 21,
   "metadata": {},
   "outputs": [
    {
     "name": "stdout",
     "output_type": "stream",
     "text": [
      "F_Disagg06_16.txt\n"
     ]
    }
   ],
   "source": [
    "!ls ../data/"
   ]
  },
  {
   "cell_type": "code",
   "execution_count": 23,
   "metadata": {},
   "outputs": [
    {
     "name": "stdout",
     "output_type": "stream",
     "text": [
      "\"Market_and_Exchange_Names\",\"As_of_Date_In_Form_YYMMDD\",\"Report_Date_as_YYYY-MM-DD\",\"CFTC_Contract_Market_Code\",\"CFTC_Market_Code\",\"CFTC_Region_Code\",\"CFTC_Commodity_Code\",\"Open_Interest_All\",\"Prod_Merc_Positions_Long_All\",\"Prod_Merc_Positions_Short_All\",\"Swap_Positions_Long_All\",\"Swap__Positions_Short_All\",\"Swap__Positions_Spread_All\",\"M_Money_Positions_Long_All\",\"M_Money_Positions_Short_All\",\"M_Money_Positions_Spread_All\",\"Other_Rept_Positions_Long_All\",\"Other_Rept_Positions_Short_All\",\"Other_Rept_Positions_Spread_All\",\"Tot_Rept_Positions_Long_All\",\"Tot_Rept_Positions_Short_All\",\"NonRept_Positions_Long_All\",\"NonRept_Positions_Short_All\",\"Open_Interest_Old\",\"Prod_Merc_Positions_Long_Old\",\"Prod_Merc_Positions_Short_Old\",\"Swap_Positions_Long_Old\",\"Swap__Positions_Short_Old\",\"Swap__Positions_Spread_Old\",\"M_Money_Positions_Long_Old\",\"M_Money_Positions_Short_Old\",\"M_Money_Positions_Spread_Old\",\"Other_Rept_Positions_Long_Old\",\"Other_Rept_Positions_Short_Old\",\"Other_Rept_Positions_Spread_Old\",\"Tot_Rept_Positions_Long_Old\",\"Tot_Rept_Positions_Short_Old\",\"NonRept_Positions_Long_Old\",\"NonRept_Positions_Short_Old\",\"Open_Interest_Other\",\"Prod_Merc_Positions_Long_Other\",\"Prod_Merc_Positions_Short_Other\",\"Swap_Positions_Long_Other\",\"Swap__Positions_Short_Other\",\"Swap__Positions_Spread_Other\",\"M_Money_Positions_Long_Other\",\"M_Money_Positions_Short_Other\",\"M_Money_Positions_Spread_Other\",\"Other_Rept_Positions_Long_Other\",\"Other_Rept_Positions_Short_Other\",\"Other_Rept_Positions_Spread_Other\",\"Tot_Rept_Positions_Long_Other\",\"Tot_Rept_Positions_Short_Other\",\"NonRept_Positions_Long_Other\",\"NonRept_Positions_Short_Other\",\"Change_in_Open_Interest_All\",\"Change_in_Prod_Merc_Long_All\",\"Change_in_Prod_Merc_Short_All\",\"Change_in_Swap_Long_All\",\"Change_in_Swap_Short_All\",\"Change_in_Swap_Spread_All\",\"Change_in_M_Money_Long_All\",\"Change_in_M_Money_Short_All\",\"Change_in_M_Money_Spread_All\",\"Change_in_Other_Rept_Long_All\",\"Change_in_Other_Rept_Short_All\",\"Change_in_Other_Rept_Spread_All\",\"Change_in_Tot_Rept_Long_All\",\"Change_in_Tot_Rept_Short_All\",\"Change_in_NonRept_Long_All\",\"Change_in_NonRept_Short_All\",\"Pct_of_Open_Interest_All\",\"Pct_of_OI_Prod_Merc_Long_All\",\"Pct_of_OI_Prod_Merc_Short_All\",\"Pct_of_OI_Swap_Long_All\",\"Pct_of_OI_Swap_Short_All\",\"Pct_of_OI_Swap_Spread_All\",\"Pct_of_OI_M_Money_Long_All\",\"Pct_of_OI_M_Money_Short_All\",\"Pct_of_OI_M_Money_Spread_All\",\"Pct_of_OI_Other_Rept_Long_All\",\"Pct_of_OI_Other_Rept_Short_All\",\"Pct_of_OI_Other_Rept_Spread_All\",\"Pct_of_OI_Tot_Rept_Long_All\",\"Pct_of_OI_Tot_Rept_Short_All\",\"Pct_of_OI_NonRept_Long_All\",\"Pct_of_OI_NonRept_Short_All\",\"Pct_of_Open_Interest_Old\",\"Pct_of_OI_Prod_Merc_Long_Old\",\"Pct_of_OI_Prod_Merc_Short_Old\",\"Pct_of_OI_Swap_Long_Old\",\"Pct_of_OI_Swap_Short_Old\",\"Pct_of_OI_Swap_Spread_Old\",\"Pct_of_OI_M_Money_Long_Old\",\"Pct_of_OI_M_Money_Short_Old\",\"Pct_of_OI_M_Money_Spread_Old\",\"Pct_of_OI_Other_Rept_Long_Old\",\"Pct_of_OI_Other_Rept_Short_Old\",\"Pct_of_OI_Other_Rept_Spread_Old\",\"Pct_of_OI_Tot_Rept_Long_Old\",\"Pct_of_OI_Tot_Rept_Short_Old\",\"Pct_of_OI_NonRept_Long_Old\",\"Pct_of_OI_NonRept_Short_Old\",\"Pct_of_Open_Interest_Other\",\"Pct_of_OI_Prod_Merc_Long_Other\",\"Pct_of_OI_Prod_Merc_Short_Other\",\"Pct_of_OI_Swap_Long_Other\",\"Pct_of_OI_Swap_Short_Other\",\"Pct_of_OI_Swap_Spread_Other\",\"Pct_of_OI_M_Money_Long_Other\",\"Pct_of_OI_M_Money_Short_Other\",\"Pct_of_OI_M_Money_Spread_Other\",\"Pct_of_OI_Other_Rept_Long_Other\",\"Pct_of_OI_Other_Rept_Short_Other\",\"Pct_of_OI_Other_Rept_Spread_Other\",\"Pct_of_OI_Tot_Rept_Long_Other\",\"Pct_of_OI_Tot_Rept_Short_Other\",\"Pct_of_OI_NonRept_Long_Other\",\"Pct_of_OI_NonRept_Short_Other\",\"Traders_Tot_All\",\"Traders_Prod_Merc_Long_All\",\"Traders_Prod_Merc_Short_All\",\"Traders_Swap_Long_All\",\"Traders_Swap_Short_All\",\"Traders_Swap_Spread_All\",\"Traders_M_Money_Long_All\",\"Traders_M_Money_Short_All\",\"Traders_M_Money_Spread_All\",\"Traders_Other_Rept_Long_All\",\"Traders_Other_Rept_Short_All\",\"Traders_Other_Rept_Spread_All\",\"Traders_Tot_Rept_Long_All\",\"Traders_Tot_Rept_Short_All\",\"Traders_Tot_Old\",\"Traders_Prod_Merc_Long_Old\",\"Traders_Prod_Merc_Short_Old\",\"Traders_Swap_Long_Old\",\"Traders_Swap_Short_Old\",\"Traders_Swap_Spread_Old\",\"Traders_M_Money_Long_Old\",\"Traders_M_Money_Short_Old\",\"Traders_M_Money_Spread_Old\",\"Traders_Other_Rept_Long_Old\",\"Traders_Other_Rept_Short_Old\",\"Traders_Other_Rept_Spread_Old\",\"Traders_Tot_Rept_Long_Old\",\"Traders_Tot_Rept_Short_Old\",\"Traders_Tot_Other\",\"Traders_Prod_Merc_Long_Other\",\"Traders_Prod_Merc_Short_Other\",\"Traders_Swap_Long_Other\",\"Traders_Swap_Short_Other\",\"Traders_Swap_Spread_Other\",\"Traders_M_Money_Long_Other\",\"Traders_M_Money_Short_Other\",\"Traders_M_Money_Spread_Other\",\"Traders_Other_Rept_Long_Other\",\"Traders_Other_Rept_Short_Other\",\"Traders_Other_Rept_Spread_Other\",\"Traders_Tot_Rept_Long_Other\",\"Traders_Tot_Rept_Short_Other\",\"Conc_Gross_LE_4_TDR_Long_All\",\"Conc_Gross_LE_4_TDR_Short_All\",\"Conc_Gross_LE_8_TDR_Long_All\",\"Conc_Gross_LE_8_TDR_Short_All\",\"Conc_Net_LE_4_TDR_Long_All\",\"Conc_Net_LE_4_TDR_Short_All\",\"Conc_Net_LE_8_TDR_Long_All\",\"Conc_Net_LE_8_TDR_Short_All\",\"Conc_Gross_LE_4_TDR_Long_Old\",\"Conc_Gross_LE_4_TDR_Short_Old\",\"Conc_Gross_LE_8_TDR_Long_Old\",\"Conc_Gross_LE_8_TDR_Short_Old\",\"Conc_Net_LE_4_TDR_Long_Old\",\"Conc_Net_LE_4_TDR_Short_Old\",\"Conc_Net_LE_8_TDR_Long_Old\",\"Conc_Net_LE_8_TDR_Short_Old\",\"Conc_Gross_LE_4_TDR_Long_Other\",\"Conc_Gross_LE_4_TDR_Short_Other\",\"Conc_Gross_LE_8_TDR_Long_Other\",\"Conc_Gross_LE_8_TDR_Short_Other\",\"Conc_Net_LE_4_TDR_Long_Other\",\"Conc_Net_LE_4_TDR_Short_Other\",\"Conc_Net_LE_8_TDR_Long_Other\",\"Conc_Net_LE_8_TDR_Short_Other\",\"Contract_Units\",\"CFTC_Contract_Market_Code_Quotes\",\"CFTC_Market_Code_Quotes\",\"CFTC_Commodity_Code_Quotes\",\"CFTC_SubGroup_Code\",\"FutOnly_or_Combined\"\n"
     ]
    }
   ],
   "source": [
    "!head -n1 ../data/F_Disagg06_16.txt"
   ]
  },
  {
   "cell_type": "code",
   "execution_count": 25,
   "metadata": {},
   "outputs": [],
   "source": [
    "# low_memory=False suppresses a mixed-type warning that can arise w/ messy data.  we're not worried about performance right now, so not a big deal.\n",
    "df = pd.read_csv(\"../data/F_Disagg06_16.txt\", low_memory=False)"
   ]
  },
  {
   "cell_type": "markdown",
   "metadata": {},
   "source": [
    "## Structured EDA"
   ]
  },
  {
   "cell_type": "markdown",
   "metadata": {},
   "source": [
    "### What features are in your dataset?\n",
    "\n",
    "List of Columns:\n",
    "https://www.cftc.gov/MarketReports/CommitmentsofTraders/HistoricalViewable/CFTC_023168.html"
   ]
  },
  {
   "cell_type": "code",
   "execution_count": 26,
   "metadata": {},
   "outputs": [
    {
     "data": {
      "text/plain": [
       "Index(['Market_and_Exchange_Names', 'As_of_Date_In_Form_YYMMDD',\n",
       "       'Report_Date_as_YYYY-MM-DD', 'CFTC_Contract_Market_Code',\n",
       "       'CFTC_Market_Code', 'CFTC_Region_Code', 'CFTC_Commodity_Code',\n",
       "       'Open_Interest_All', 'Prod_Merc_Positions_Long_All',\n",
       "       'Prod_Merc_Positions_Short_All',\n",
       "       ...\n",
       "       'Conc_Net_LE_4_TDR_Long_Other', 'Conc_Net_LE_4_TDR_Short_Other',\n",
       "       'Conc_Net_LE_8_TDR_Long_Other', 'Conc_Net_LE_8_TDR_Short_Other',\n",
       "       'Contract_Units', 'CFTC_Contract_Market_Code_Quotes',\n",
       "       'CFTC_Market_Code_Quotes', 'CFTC_Commodity_Code_Quotes',\n",
       "       'CFTC_SubGroup_Code', 'FutOnly_or_Combined'],\n",
       "      dtype='object', length=191)"
      ]
     },
     "execution_count": 26,
     "metadata": {},
     "output_type": "execute_result"
    }
   ],
   "source": [
    "df.columns"
   ]
  },
  {
   "cell_type": "markdown",
   "metadata": {},
   "source": [
    "Note that the dataset is in a \"wide\" format, as there are related fields that have values in the column name, e.g. \"Conc...4\" vs \"Conc...8\".  More info on data organization:  \n",
    "\n",
    "* https://en.wikipedia.org/wiki/Wide_and_narrow_data\n",
    "* https://vita.had.co.nz/papers/tidy-data.pdf"
   ]
  },
  {
   "cell_type": "markdown",
   "metadata": {},
   "source": [
    "### What type is each feature?"
   ]
  },
  {
   "cell_type": "code",
   "execution_count": null,
   "metadata": {},
   "outputs": [],
   "source": []
  },
  {
   "cell_type": "markdown",
   "metadata": {},
   "source": [
    "### Distribution of each feature?"
   ]
  },
  {
   "cell_type": "code",
   "execution_count": null,
   "metadata": {},
   "outputs": [],
   "source": []
  },
  {
   "cell_type": "markdown",
   "metadata": {},
   "source": [
    "### What do the numeric features represent? Counts? Measurements?"
   ]
  },
  {
   "cell_type": "code",
   "execution_count": null,
   "metadata": {},
   "outputs": [],
   "source": []
  },
  {
   "cell_type": "markdown",
   "metadata": {},
   "source": [
    "### What are the pairwise relationships between numeric features?"
   ]
  },
  {
   "cell_type": "code",
   "execution_count": null,
   "metadata": {},
   "outputs": [],
   "source": []
  },
  {
   "cell_type": "markdown",
   "metadata": {},
   "source": [
    "## Brainstorming\n",
    "\n",
    "Let's take a step back and connect your dataset to its real-world context.  \n",
    "\n",
    "Consider what these features and values actually represent.  Is there anything unexpected about the features?  What biases or thoughts did you have about this topic before exploring the data?  List off some \"facts\" that you think are true about your topic.  Our goal in EDA is to reconcile your perspective of the data / topic with the *truth* of the dataset.  What motivated you to choose this dataset?  What insights or questions are you investigating with this dataset?  Now that you've explored each of the features, which might be useful to you in your investigation?"
   ]
  },
  {
   "cell_type": "markdown",
   "metadata": {},
   "source": []
  },
  {
   "cell_type": "markdown",
   "metadata": {},
   "source": [
    "## Open-Ended EDA\n",
    "\n",
    "EDA is an iterative process.  It begins with answering initial questions which lead to more questions.  Using some of the brainstorming above, come up with at least one concrete investigation into your dataset.  This might be inspecting a specific irregularity, questioning a personal bias, or identifying a specific relationship between two features.  \n",
    "\n",
    "To do this, you'll likely need to select a subset of your dataset, transform it into a simpler format, and finally visualize or summarize it.  Visualizations are **highly** encouraged at this point!  It's much easier to understand relationships visually."
   ]
  },
  {
   "cell_type": "code",
   "execution_count": null,
   "metadata": {},
   "outputs": [],
   "source": []
  }
 ],
 "metadata": {
  "kernelspec": {
   "display_name": "Python 3",
   "language": "python",
   "name": "python3"
  },
  "language_info": {
   "codemirror_mode": {
    "name": "ipython",
    "version": 3
   },
   "file_extension": ".py",
   "mimetype": "text/x-python",
   "name": "python",
   "nbconvert_exporter": "python",
   "pygments_lexer": "ipython3",
   "version": "3.6.8"
  }
 },
 "nbformat": 4,
 "nbformat_minor": 4
}
